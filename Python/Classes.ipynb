{
 "cells": [
  {
   "cell_type": "markdown",
   "metadata": {},
   "source": [
    "## New class"
   ]
  },
  {
   "cell_type": "markdown",
   "metadata": {},
   "source": [
    "Class contains attributes (variables) and methods (functions). \n",
    "<br> <font color='red'> constructeur </font> __init__"
   ]
  },
  {
   "cell_type": "code",
   "execution_count": 1,
   "metadata": {},
   "outputs": [
    {
     "ename": "SyntaxError",
     "evalue": "invalid character in identifier (<ipython-input-1-229cc3defb8e>, line 1)",
     "output_type": "error",
     "traceback": [
      "\u001b[1;36m  File \u001b[1;32m\"<ipython-input-1-229cc3defb8e>\"\u001b[1;36m, line \u001b[1;32m1\u001b[0m\n\u001b[1;33m    class Personne :\u001b[0m\n\u001b[1;37m                  ^\u001b[0m\n\u001b[1;31mSyntaxError\u001b[0m\u001b[1;31m:\u001b[0m invalid character in identifier\n"
     ]
    }
   ],
   "source": [
    "class Personne :\n",
    "\n",
    "    def __init__(self, age=1) :\t#ici on définit les attributs,le constructeur. Ici, on peut mettre valeur par défaut\n",
    "        self.nom= ''\n",
    "        self.prenom=prenom\n",
    "        self.age=age\n",
    "        self._lieu_residence= ‘Paris’\t\t#on ne veut pas que cet attribut soit changeable de l’extérieur\n",
    "        Personne.nbre_personnes += 1\t#ici on compte cbien il y a de personne créées\n",
    "        \n",
    "    def changer_nom(self, nouveau_nom)\t#on définit une méthode d’instance sur le self\n",
    "        self.nom=nouveau_nom\t\n",
    "        bob.changer_nom(‘Bryan’) = Personne.changer_nom(Bob, Bryan)\t#C’est à ça que sert le terme self\n",
    "\n",
    "    def combien(cls):\t#c'est uné mthode de classe\n",
    "        print(\"Jusqu'à présent, {} objets ont été créés.\".format(cls.objets_crees))\n",
    "        combien = classmethod(combien)\t#obligatoire pour créer une méthode de classe\n",
    "        \n",
    "    def afficher():\t#Ici, c’est une classe statique\n",
    "        print(\"On affiche la même chose, quelque soit les données de l’objet, ou de la classe\")\n",
    "        afficher = staticmethod(afficher)"
   ]
  },
  {
   "cell_type": "markdown",
   "metadata": {},
   "source": [
    "Nouvel objet de cette classe"
   ]
  },
  {
   "cell_type": "code",
   "execution_count": 2,
   "metadata": {},
   "outputs": [
    {
     "ename": "SyntaxError",
     "evalue": "invalid character in identifier (<ipython-input-2-b431a5407ea4>, line 1)",
     "output_type": "error",
     "traceback": [
      "\u001b[1;36m  File \u001b[1;32m\"<ipython-input-2-b431a5407ea4>\"\u001b[1;36m, line \u001b[1;32m1\u001b[0m\n\u001b[1;33m    Bernard=Personne(‘nom’,’prenom’)\u001b[0m\n\u001b[1;37m                         ^\u001b[0m\n\u001b[1;31mSyntaxError\u001b[0m\u001b[1;31m:\u001b[0m invalid character in identifier\n"
     ]
    }
   ],
   "source": [
    "Bernard=Personne(‘nom’,’prenom’)"
   ]
  },
  {
   "cell_type": "code",
   "execution_count": null,
   "metadata": {
    "collapsed": true
   },
   "outputs": [],
   "source": []
  },
  {
   "cell_type": "markdown",
   "metadata": {},
   "source": [
    "<font color='red'> Méthode mutateur et méthode accédeur à écrire ici </font>"
   ]
  },
  {
   "cell_type": "code",
   "execution_count": null,
   "metadata": {
    "collapsed": true
   },
   "outputs": [],
   "source": []
  },
  {
   "cell_type": "code",
   "execution_count": null,
   "metadata": {
    "collapsed": true
   },
   "outputs": [],
   "source": []
  },
  {
   "cell_type": "markdown",
   "metadata": {},
   "source": [
    "## Méthodes spéciales"
   ]
  },
  {
   "cell_type": "code",
   "execution_count": 3,
   "metadata": {},
   "outputs": [
    {
     "ename": "SyntaxError",
     "evalue": "invalid character in identifier (<ipython-input-3-69b219d3abe5>, line 4)",
     "output_type": "error",
     "traceback": [
      "\u001b[1;36m  File \u001b[1;32m\"<ipython-input-3-69b219d3abe5>\"\u001b[1;36m, line \u001b[1;32m4\u001b[0m\n\u001b[1;33m    def__str__(self) :    \t\t#réponse à print(objet)\u001b[0m\n\u001b[1;37m                    ^\u001b[0m\n\u001b[1;31mSyntaxError\u001b[0m\u001b[1;31m:\u001b[0m invalid character in identifier\n"
     ]
    }
   ],
   "source": [
    "def __repr__(self):#a chaque fois qu’on appelle l’objet sans rien d’autre\n",
    "        return \"Personne: nom({}), prénom({}), âge({})\".format(self.nom, self.prenom, self.age)\n",
    "\n",
    "def__str__(self) :    #réponse à print(objet)\n",
    "    return\"{} {}, âgé de {} ans\".format(self.prenom, self.nom, self.age)"
   ]
  },
  {
   "cell_type": "code",
   "execution_count": null,
   "metadata": {
    "collapsed": true
   },
   "outputs": [],
   "source": []
  },
  {
   "cell_type": "markdown",
   "metadata": {},
   "source": [
    "<font color='red'> See again __setattr__ and __getattr__ </font>"
   ]
  },
  {
   "cell_type": "code",
   "execution_count": null,
   "metadata": {
    "collapsed": true
   },
   "outputs": [],
   "source": [
    "#pas d’attribut définie, action dans ce cas dans ce cas\n",
    "def __getattr__(self, xxx):\n",
    "\tprint(\"Alerte ! L’attribut {} n’a pas été défini ici !\".format(xxx))\t\t\n",
    "\n",
    "#changement de la valeur d’attribut, action dans ce cas\n",
    "def __setattr__(self, nom_attr, val_attr):\n",
    "\tobject.__setattr__(self, nom_attr, val_attr)\n",
    "\tself.enregistrer()\t\t#action à faire dès qu’il y a modification (ici, enregistrer)\n"
   ]
  },
  {
   "cell_type": "markdown",
   "metadata": {},
   "source": [
    "<font color='red'> ici, attention à ne pas rappeler la méthode de la classe objet, en définissant un attribut. Mais bien utiliser object.__setattr__ pour être sûr action lors de la suprresion :</font>"
   ]
  },
  {
   "cell_type": "code",
   "execution_count": 5,
   "metadata": {},
   "outputs": [
    {
     "ename": "SyntaxError",
     "evalue": "unexpected EOF while parsing (<ipython-input-5-46ae959b3867>, line 3)",
     "output_type": "error",
     "traceback": [
      "\u001b[1;36m  File \u001b[1;32m\"<ipython-input-5-46ae959b3867>\"\u001b[1;36m, line \u001b[1;32m3\u001b[0m\n\u001b[1;33m    #là aussi, attention à la boucle infinie\u001b[0m\n\u001b[1;37m                                            ^\u001b[0m\n\u001b[1;31mSyntaxError\u001b[0m\u001b[1;31m:\u001b[0m unexpected EOF while parsing\n"
     ]
    }
   ],
   "source": [
    "def __delattr__(self, nom_attr):\n",
    "\t#action lors de la suppression / ou rien, on empécher la suppression.\n",
    "\t#là aussi, attention à la boucle infinie"
   ]
  },
  {
   "cell_type": "code",
   "execution_count": null,
   "metadata": {
    "collapsed": true
   },
   "outputs": [],
   "source": []
  },
  {
   "cell_type": "code",
   "execution_count": null,
   "metadata": {
    "collapsed": true
   },
   "outputs": [],
   "source": []
  },
  {
   "cell_type": "code",
   "execution_count": 6,
   "metadata": {},
   "outputs": [
    {
     "ename": "TabError",
     "evalue": "inconsistent use of tabs and spaces in indentation (<ipython-input-6-82d8067c3e2e>, line 11)",
     "output_type": "error",
     "traceback": [
      "\u001b[1;36m  File \u001b[1;32m\"<ipython-input-6-82d8067c3e2e>\"\u001b[1;36m, line \u001b[1;32m11\u001b[0m\n\u001b[1;33m    dict_attr[\"attribut_temporaire\"] = 0\u001b[0m\n\u001b[1;37m                                        ^\u001b[0m\n\u001b[1;31mTabError\u001b[0m\u001b[1;31m:\u001b[0m inconsistent use of tabs and spaces in indentation\n"
     ]
    }
   ],
   "source": [
    "#Méthodes pour conteneur (liste, chaine, dictionnaire, tuple ? ) : en fait, en faisant objet[1], on donne action correspondante.\n",
    "def __getitem__(self, index):\t\t\t#action lorsque demande ‘objet[index]’\n",
    "\treturn self._dictionnaire[index]\t#dictionnaire est ici un attribut de l’objet.\n",
    "\n",
    "def __setitem__(self, index, valeur):\t\t#action lorsqu’on demande ‘objet[index]=valeur\n",
    "\tself.dictionnaire[index]=valeur\n",
    "\n",
    "\n",
    "def __getstate__(self):\n",
    "      \t\tdict_attr = dict(self.__dict__)\n",
    "        \tdict_attr[\"attribut_temporaire\"] = 0\n",
    "        \treturn dict_attr\t\t\t#Si on envoie autre chose que dictionnaire, il faut un __setstate__\n",
    "\n",
    "#Load. On change paramètre lors du chargement.\n",
    "def __setstate__(self, dict_attr):\n",
    "\tdict_attr[\"attribut_temporaire\"] = 0\n",
    "\tself.__dict__ = dict_attr\n"
   ]
  },
  {
   "cell_type": "code",
   "execution_count": null,
   "metadata": {
    "collapsed": true
   },
   "outputs": [],
   "source": []
  },
  {
   "cell_type": "code",
   "execution_count": null,
   "metadata": {
    "collapsed": true
   },
   "outputs": [],
   "source": []
  },
  {
   "cell_type": "code",
   "execution_count": null,
   "metadata": {
    "collapsed": true
   },
   "outputs": [],
   "source": []
  },
  {
   "cell_type": "markdown",
   "metadata": {},
   "source": [
    "<font color='red'> Différence entre self et cls dans la définition d'une fonctions dans une classe </font>"
   ]
  }
 ],
 "metadata": {
  "kernelspec": {
   "display_name": "Python 3",
   "language": "python",
   "name": "python3"
  },
  "language_info": {
   "codemirror_mode": {
    "name": "ipython",
    "version": 3
   },
   "file_extension": ".py",
   "mimetype": "text/x-python",
   "name": "python",
   "nbconvert_exporter": "python",
   "pygments_lexer": "ipython3",
   "version": "3.6.3"
  }
 },
 "nbformat": 4,
 "nbformat_minor": 1
}
