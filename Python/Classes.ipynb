{
 "cells": [
  {
   "cell_type": "markdown",
   "metadata": {},
   "source": [
    "## New class"
   ]
  },
  {
   "cell_type": "markdown",
   "metadata": {},
   "source": [
    "Class contains attributes (variables) and methods (functions). It creates an object, <b>an instance called self</b>, with the <br> <font color='red'> constructeur </font>, __init__. The instance self can contains multiples variables and get multiple instance methods defines in class. \n",
    "\n",
    "Classes useful to store variables, and get dedicated method on it."
   ]
  },
  {
   "cell_type": "code",
   "execution_count": 1,
   "metadata": {},
   "outputs": [
    {
     "ename": "SyntaxError",
     "evalue": "invalid character in identifier (<ipython-input-1-229cc3defb8e>, line 1)",
     "output_type": "error",
     "traceback": [
      "\u001b[1;36m  File \u001b[1;32m\"<ipython-input-1-229cc3defb8e>\"\u001b[1;36m, line \u001b[1;32m1\u001b[0m\n\u001b[1;33m    class Personne :\u001b[0m\n\u001b[1;37m                  ^\u001b[0m\n\u001b[1;31mSyntaxError\u001b[0m\u001b[1;31m:\u001b[0m invalid character in identifier\n"
     ]
    }
   ],
   "source": [
    "class Personne :\n",
    "\n",
    "    def __init__(self, age=1) :\t#ici on définit les attributs,le constructeur. Ici, on peut mettre valeur par défaut\n",
    "        self.nom= ''\n",
    "        self.prenom=prenom\n",
    "        self.age=age\n",
    "        self._lieu_residence= ‘Paris’\t\t#on ne veut pas que cet attribut soit changeable de l’extérieur\n",
    "        Personne.nbre_personnes += 1\t#ici on compte cbien il y a de personne créées\n",
    "        \n",
    "    def changer_nom(self, nouveau_nom)\t#on définit une méthode d’instance sur le self\n",
    "        self.nom=nouveau_nom\t\n",
    "        bob.changer_nom(‘Bryan’) = Personne.changer_nom(Bob, Bryan)\t#C’est à ça que sert le terme self\n",
    "\n",
    "    def combien(cls):\t#c'est uné mthode de classe\n",
    "        print(\"Jusqu'à présent, {} objets ont été créés.\".format(cls.objets_crees))\n",
    "        combien = classmethod(combien)\t#obligatoire pour créer une méthode de classe\n",
    "        \n",
    "    def afficher():\t#Ici, c’est une classe statique\n",
    "        print(\"On affiche la même chose, quelque soit les données de l’objet, ou de la classe\")\n",
    "        afficher = staticmethod(afficher)"
   ]
  },
  {
   "cell_type": "markdown",
   "metadata": {},
   "source": [
    "Nouvel objet de cette classe"
   ]
  },
  {
   "cell_type": "code",
   "execution_count": 2,
   "metadata": {},
   "outputs": [
    {
     "ename": "SyntaxError",
     "evalue": "invalid character in identifier (<ipython-input-2-b431a5407ea4>, line 1)",
     "output_type": "error",
     "traceback": [
      "\u001b[1;36m  File \u001b[1;32m\"<ipython-input-2-b431a5407ea4>\"\u001b[1;36m, line \u001b[1;32m1\u001b[0m\n\u001b[1;33m    Bernard=Personne(‘nom’,’prenom’)\u001b[0m\n\u001b[1;37m                         ^\u001b[0m\n\u001b[1;31mSyntaxError\u001b[0m\u001b[1;31m:\u001b[0m invalid character in identifier\n"
     ]
    }
   ],
   "source": [
    "Bernard=Personne(‘nom’,’prenom’)"
   ]
  },
  {
   "cell_type": "code",
   "execution_count": null,
   "metadata": {
    "collapsed": true
   },
   "outputs": [],
   "source": []
  },
  {
   "cell_type": "markdown",
   "metadata": {},
   "source": [
    "<b>Attribut de classe</b> : il n'est pas lié à l'instance self, mais à la classe en général. Par exemple, si on veut compter le nbre de fois où une classe est créée. \n",
    "<br><b>Methode de classe</b> : method specific to the class, which take <b>cls</b> as parameter.\n",
    "<br><b>Methode statique</b> : ne prend ni l'instance, ni la classe comme paramètre. Doit être précédée de @staticmethod"
   ]
  },
  {
   "cell_type": "code",
   "execution_count": 1,
   "metadata": {
    "collapsed": true
   },
   "outputs": [],
   "source": [
    "class Compteur:\n",
    "    \"\"\"Cette classe possède un attribut de classe qui s'incrémente à chaque\n",
    "    fois que l'on crée un objet de ce type\"\"\"\n",
    "    objets_crees = 0 # Le compteur vaut 0 au départ\n",
    "\n",
    "    def __init__(self):\n",
    "        \"\"\"À chaque fois qu'on crée un objet, on incrémente le compteur\"\"\"\n",
    "        Compteur.objets_crees += 1\n",
    "        \n",
    "    def combien(cls):\n",
    "        \"\"\"Méthode de classe affichant combien d'objets ont été créés\"\"\"\n",
    "        print(\"Jusqu'à présent, {} objets ont été créés.\".format(cls.objets_crees))\n",
    "\n",
    "    \n",
    "    combien = classmethod(combien)"
   ]
  },
  {
   "cell_type": "code",
   "execution_count": null,
   "metadata": {
    "collapsed": true
   },
   "outputs": [],
   "source": []
  },
  {
   "cell_type": "markdown",
   "metadata": {},
   "source": [
    "<font color='red'> Is it necessary to specify decorator @classmethod ? </font> why working on previous one ?"
   ]
  },
  {
   "cell_type": "code",
   "execution_count": null,
   "metadata": {
    "collapsed": true
   },
   "outputs": [],
   "source": []
  },
  {
   "cell_type": "markdown",
   "metadata": {},
   "source": [
    " \n"
   ]
  },
  {
   "cell_type": "markdown",
   "metadata": {},
   "source": [
    "#### Another way of using class methods"
   ]
  },
  {
   "cell_type": "code",
   "execution_count": 7,
   "metadata": {
    "collapsed": true
   },
   "outputs": [],
   "source": [
    "class Pizza:\n",
    "    def __init__(self, ingredients):\n",
    "        self.ingredients = ingredients\n",
    "\n",
    "    def __repr__(self):\n",
    "        return f'Pizza({self.ingredients!r})'\n",
    "\n",
    "    @classmethod\n",
    "    def margherita(cls):\n",
    "        return cls(['mozzarella', 'tomatoes'])\n",
    "\n",
    "    @classmethod\n",
    "    def prosciutto(cls):\n",
    "        return cls(['mozzarella', 'tomatoes', 'ham'])\n"
   ]
  },
  {
   "cell_type": "code",
   "execution_count": 8,
   "metadata": {},
   "outputs": [
    {
     "ename": "TypeError",
     "evalue": "margherita() missing 1 required positional argument: 'cls'",
     "output_type": "error",
     "traceback": [
      "\u001b[1;31m---------------------------------------------------------------------------\u001b[0m",
      "\u001b[1;31mTypeError\u001b[0m                                 Traceback (most recent call last)",
      "\u001b[1;32m<ipython-input-8-d9e70907250f>\u001b[0m in \u001b[0;36m<module>\u001b[1;34m()\u001b[0m\n\u001b[1;32m----> 1\u001b[1;33m \u001b[0mPizza\u001b[0m\u001b[1;33m.\u001b[0m\u001b[0mmargherita\u001b[0m\u001b[1;33m(\u001b[0m\u001b[1;33m)\u001b[0m\u001b[1;33m\u001b[0m\u001b[0m\n\u001b[0m",
      "\u001b[1;31mTypeError\u001b[0m: margherita() missing 1 required positional argument: 'cls'"
     ]
    }
   ],
   "source": [
    "Pizza.margherita()"
   ]
  },
  {
   "cell_type": "code",
   "execution_count": 4,
   "metadata": {},
   "outputs": [
    {
     "data": {
      "text/plain": [
       "Pizza(['mozzarella', 'tomatoes', 'ham'])"
      ]
     },
     "execution_count": 4,
     "metadata": {},
     "output_type": "execute_result"
    }
   ],
   "source": [
    "Pizza.prosciutto()"
   ]
  },
  {
   "cell_type": "code",
   "execution_count": null,
   "metadata": {
    "collapsed": true
   },
   "outputs": [],
   "source": []
  },
  {
   "cell_type": "code",
   "execution_count": null,
   "metadata": {
    "collapsed": true
   },
   "outputs": [],
   "source": []
  },
  {
   "cell_type": "code",
   "execution_count": null,
   "metadata": {
    "collapsed": true
   },
   "outputs": [],
   "source": []
  },
  {
   "cell_type": "code",
   "execution_count": null,
   "metadata": {
    "collapsed": true
   },
   "outputs": [],
   "source": []
  },
  {
   "cell_type": "markdown",
   "metadata": {},
   "source": [
    "## Mutateurs et accédeur"
   ]
  },
  {
   "cell_type": "markdown",
   "metadata": {},
   "source": []
  },
  {
   "cell_type": "markdown",
   "metadata": {},
   "source": []
  },
  {
   "cell_type": "code",
   "execution_count": null,
   "metadata": {
    "collapsed": true
   },
   "outputs": [],
   "source": []
  },
  {
   "cell_type": "markdown",
   "metadata": {},
   "source": [
    "A l'inverse de C+ ou Java, en python aucune variable d'objet n'est cachée. On n'est donc pas forcé de passer par des accédeurs et des mutateurs. Les variables précédées de _var sont censées rester inchangées."
   ]
  },
  {
   "cell_type": "markdown",
   "metadata": {},
   "source": []
  },
  {
   "cell_type": "markdown",
   "metadata": {},
   "source": [
    "<b>Property </b>: Une propriété ne se crée pas dans le constructeur mais dans le corps de la classe. J'ai dit qu'il s'agissait d'une classe, son nom est property. Elle attend quatre paramètres, tous optionnels :\n",
    "<br>la méthode donnant accès à l'attribut ;\n",
    "<br>la méthode modifiant l'attribut ;\n",
    "<br>la méthode appelée quand on souhaite supprimer l'attribut ;\n",
    "<br>la méthode appelée quand on demande de l'aide sur l'attribut.\n",
    "<br><br> Ainsi,on peut donner un comportement particulier à un des attributs de la classe en cas de mutateur, accédeur, suppression. \n",
    "<br><br> Si l'on veut donner un comportement particulier au mutateur de toutes les attirbuts de la classe, on va utl"
   ]
  },
  {
   "cell_type": "markdown",
   "metadata": {},
   "source": [
    "<font color='red'> A tester </font>"
   ]
  },
  {
   "cell_type": "code",
   "execution_count": null,
   "metadata": {
    "collapsed": true
   },
   "outputs": [],
   "source": []
  },
  {
   "cell_type": "markdown",
   "metadata": {},
   "source": [
    "## Méthodes spéciales"
   ]
  },
  {
   "cell_type": "markdown",
   "metadata": {},
   "source": [
    "<font color='red'> Description </font>"
   ]
  },
  {
   "cell_type": "code",
   "execution_count": null,
   "metadata": {
    "collapsed": true
   },
   "outputs": [],
   "source": []
  },
  {
   "cell_type": "code",
   "execution_count": null,
   "metadata": {
    "collapsed": true
   },
   "outputs": [],
   "source": [
    "def __repr__(self):#a chaque fois qu’on appelle l’objet sans rien d’autre\n",
    "        return \"Personne: nom({}), prénom({}), âge({})\".format(self.nom, self.prenom, self.age)\n",
    "\n",
    "def__str__(self) :    #réponse à print(objet)\n",
    "    return\"{} {}, âgé de {} ans\".format(self.prenom, self.nom, self.age)"
   ]
  },
  {
   "cell_type": "markdown",
   "metadata": {},
   "source": [
    "Si l'attribut existe, \\__getattr\\__ n'est pas appelé, tandis que \\__setatt\\__ est appelé dans tous les cas"
   ]
  },
  {
   "cell_type": "code",
   "execution_count": null,
   "metadata": {
    "collapsed": true
   },
   "outputs": [],
   "source": [
    "#pas d’attribut définie, action dans ce cas dans ce cas\n",
    "def __getattr__(self, xxx):\n",
    "\tprint(\"Alerte ! L’attribut {} n’a pas été défini ici !\".format(xxx))\t\t\n",
    "\n",
    "#changement de la valeur d’attribut, action dans ce cas\n",
    "def __setattr__(self, nom_attr, val_attr):\n",
    "\tobject.__setattr__(self, nom_attr, val_attr)\n",
    "\tself.enregistrer()\t\t#action à faire dès qu’il y a modification (ici, enregistrer)\n"
   ]
  },
  {
   "cell_type": "markdown",
   "metadata": {},
   "source": [
    "<font color='red'> ici, attention à ne pas rappeler la méthode de la classe objet, en définissant un attribut. Mais bien utiliser object.__setattr__ pour être sûr action lors de la suprresion :</font>"
   ]
  },
  {
   "cell_type": "code",
   "execution_count": 5,
   "metadata": {},
   "outputs": [
    {
     "ename": "SyntaxError",
     "evalue": "unexpected EOF while parsing (<ipython-input-5-46ae959b3867>, line 3)",
     "output_type": "error",
     "traceback": [
      "\u001b[1;36m  File \u001b[1;32m\"<ipython-input-5-46ae959b3867>\"\u001b[1;36m, line \u001b[1;32m3\u001b[0m\n\u001b[1;33m    #là aussi, attention à la boucle infinie\u001b[0m\n\u001b[1;37m                                            ^\u001b[0m\n\u001b[1;31mSyntaxError\u001b[0m\u001b[1;31m:\u001b[0m unexpected EOF while parsing\n"
     ]
    }
   ],
   "source": [
    "def __delattr__(self, nom_attr):\n",
    "\t#action lors de la suppression / ou rien, on empécher la suppression.\n",
    "\t#là aussi, attention à la boucle infinie"
   ]
  },
  {
   "cell_type": "code",
   "execution_count": null,
   "metadata": {
    "collapsed": true
   },
   "outputs": [],
   "source": []
  },
  {
   "cell_type": "code",
   "execution_count": null,
   "metadata": {
    "collapsed": true
   },
   "outputs": [],
   "source": []
  },
  {
   "cell_type": "code",
   "execution_count": 6,
   "metadata": {},
   "outputs": [
    {
     "ename": "TabError",
     "evalue": "inconsistent use of tabs and spaces in indentation (<ipython-input-6-82d8067c3e2e>, line 11)",
     "output_type": "error",
     "traceback": [
      "\u001b[1;36m  File \u001b[1;32m\"<ipython-input-6-82d8067c3e2e>\"\u001b[1;36m, line \u001b[1;32m11\u001b[0m\n\u001b[1;33m    dict_attr[\"attribut_temporaire\"] = 0\u001b[0m\n\u001b[1;37m                                        ^\u001b[0m\n\u001b[1;31mTabError\u001b[0m\u001b[1;31m:\u001b[0m inconsistent use of tabs and spaces in indentation\n"
     ]
    }
   ],
   "source": [
    "#Méthodes pour conteneur (liste, chaine, dictionnaire, tuple ? ) : en fait, en faisant objet[1], on donne action correspondante.\n",
    "def __getitem__(self, index):\t\t\t#action lorsque demande ‘objet[index]’\n",
    "\treturn self._dictionnaire[index]\t#dictionnaire est ici un attribut de l’objet.\n",
    "\n",
    "def __setitem__(self, index, valeur):\t\t#action lorsqu’on demande ‘objet[index]=valeur\n",
    "\tself.dictionnaire[index]=valeur\n",
    "\n",
    "\n",
    "def __getstate__(self):\n",
    "      \t\tdict_attr = dict(self.__dict__)\n",
    "        \tdict_attr[\"attribut_temporaire\"] = 0\n",
    "        \treturn dict_attr\t\t\t#Si on envoie autre chose que dictionnaire, il faut un __setstate__\n",
    "\n",
    "#Load. On change paramètre lors du chargement.\n",
    "def __setstate__(self, dict_attr):\n",
    "\tdict_attr[\"attribut_temporaire\"] = 0\n",
    "\tself.__dict__ = dict_attr\n"
   ]
  },
  {
   "cell_type": "code",
   "execution_count": null,
   "metadata": {
    "collapsed": true
   },
   "outputs": [],
   "source": []
  },
  {
   "cell_type": "code",
   "execution_count": null,
   "metadata": {
    "collapsed": true
   },
   "outputs": [],
   "source": []
  },
  {
   "cell_type": "code",
   "execution_count": null,
   "metadata": {
    "collapsed": true
   },
   "outputs": [],
   "source": []
  },
  {
   "cell_type": "markdown",
   "metadata": {},
   "source": [
    "## Heritage\n"
   ]
  },
  {
   "cell_type": "markdown",
   "metadata": {},
   "source": [
    "Toutes les classes sont dérivées de la classe object, qui contient déjà un bon nombre de méthodes spéciales"
   ]
  },
  {
   "cell_type": "code",
   "execution_count": 2,
   "metadata": {},
   "outputs": [
    {
     "data": {
      "text/plain": [
       "['__class__',\n",
       " '__delattr__',\n",
       " '__dir__',\n",
       " '__doc__',\n",
       " '__eq__',\n",
       " '__format__',\n",
       " '__ge__',\n",
       " '__getattribute__',\n",
       " '__gt__',\n",
       " '__hash__',\n",
       " '__init__',\n",
       " '__init_subclass__',\n",
       " '__le__',\n",
       " '__lt__',\n",
       " '__ne__',\n",
       " '__new__',\n",
       " '__reduce__',\n",
       " '__reduce_ex__',\n",
       " '__repr__',\n",
       " '__setattr__',\n",
       " '__sizeof__',\n",
       " '__str__',\n",
       " '__subclasshook__']"
      ]
     },
     "execution_count": 2,
     "metadata": {},
     "output_type": "execute_result"
    }
   ],
   "source": [
    "dir(object)"
   ]
  },
  {
   "cell_type": "code",
   "execution_count": null,
   "metadata": {
    "collapsed": true
   },
   "outputs": [],
   "source": []
  },
  {
   "cell_type": "markdown",
   "metadata": {},
   "source": [
    "On peut redéfinir un attribut/ une méthode/ une méthode spéciale. Python ira chercher récursivement de classe fille aux classes mères pour trouver le bon élément."
   ]
  },
  {
   "cell_type": "code",
   "execution_count": 5,
   "metadata": {
    "collapsed": true
   },
   "outputs": [],
   "source": [
    "class A:\n",
    "    \"\"\"Classe A, pour illustrer notre exemple d'héritage\"\"\"\n",
    "    pass # On laisse la définition vide, ce n'est qu'un exemple\n",
    "\n",
    "class B(A):\n",
    "    \"\"\"Classe B, qui hérite de A.\n",
    "    Elle reprend les mêmes méthodes et attributs (dans cet exemple, la classe\n",
    "    A ne possède de toute façon ni méthode ni attribut)\"\"\"\n",
    "    \n",
    "    pass"
   ]
  },
  {
   "cell_type": "markdown",
   "metadata": {},
   "source": [
    "<b>issubclass</b> : tester si la classe est une sous-classe. \n",
    "<br><b>isinstance</b> : permet de savoir si un objet est issu d'une classe ou de ses classes filles :"
   ]
  },
  {
   "cell_type": "code",
   "execution_count": 11,
   "metadata": {
    "scrolled": true
   },
   "outputs": [
    {
     "data": {
      "text/plain": [
       "True"
      ]
     },
     "execution_count": 11,
     "metadata": {},
     "output_type": "execute_result"
    }
   ],
   "source": [
    "issubclass(A, object)  #True\n",
    "issubclass(A, B) #False\n",
    "isinstance('lala', str)  #True"
   ]
  },
  {
   "cell_type": "code",
   "execution_count": null,
   "metadata": {
    "collapsed": true
   },
   "outputs": [],
   "source": []
  },
  {
   "cell_type": "markdown",
   "metadata": {},
   "source": [
    "### Multi-héritage"
   ]
  },
  {
   "cell_type": "markdown",
   "metadata": {},
   "source": [
    "On hérite de deux classe à la fois. Dans ce cas, Python ira chercher dans la nouvelle classe, puis dans la classe1, puis dans la classe2."
   ]
  },
  {
   "cell_type": "code",
   "execution_count": 13,
   "metadata": {},
   "outputs": [
    {
     "ename": "SyntaxError",
     "evalue": "unexpected EOF while parsing (<ipython-input-13-a91f81386ac7>, line 1)",
     "output_type": "error",
     "traceback": [
      "\u001b[1;36m  File \u001b[1;32m\"<ipython-input-13-a91f81386ac7>\"\u001b[1;36m, line \u001b[1;32m1\u001b[0m\n\u001b[1;33m    class MaClasseHeritee(MaClasseMere1, MaClasseMere2):\u001b[0m\n\u001b[1;37m                                                        ^\u001b[0m\n\u001b[1;31mSyntaxError\u001b[0m\u001b[1;31m:\u001b[0m unexpected EOF while parsing\n"
     ]
    }
   ],
   "source": [
    "class MaClasseHeritee(MaClasseMere1, MaClasseMere2):"
   ]
  },
  {
   "cell_type": "code",
   "execution_count": null,
   "metadata": {
    "collapsed": true
   },
   "outputs": [],
   "source": []
  },
  {
   "cell_type": "markdown",
   "metadata": {},
   "source": [
    " "
   ]
  },
  {
   "cell_type": "markdown",
   "metadata": {},
   "source": [
    " "
   ]
  },
  {
   "cell_type": "code",
   "execution_count": null,
   "metadata": {
    "collapsed": true
   },
   "outputs": [],
   "source": []
  },
  {
   "cell_type": "code",
   "execution_count": null,
   "metadata": {
    "collapsed": true
   },
   "outputs": [],
   "source": []
  },
  {
   "cell_type": "markdown",
   "metadata": {},
   "source": [
    "## Métaclasses"
   ]
  },
  {
   "cell_type": "markdown",
   "metadata": {},
   "source": [
    "La création d'une instance se fait avant le constructeur \\__init\\__, par la méthode statique \\__new\\__, qui prend en paramètre cls."
   ]
  },
  {
   "cell_type": "code",
   "execution_count": null,
   "metadata": {
    "collapsed": true
   },
   "outputs": [],
   "source": []
  },
  {
   "cell_type": "code",
   "execution_count": null,
   "metadata": {
    "collapsed": true
   },
   "outputs": [],
   "source": []
  },
  {
   "cell_type": "code",
   "execution_count": null,
   "metadata": {
    "collapsed": true
   },
   "outputs": [],
   "source": []
  }
 ],
 "metadata": {
  "kernelspec": {
   "display_name": "Python 3",
   "language": "python",
   "name": "python3"
  },
  "language_info": {
   "codemirror_mode": {
    "name": "ipython",
    "version": 3
   },
   "file_extension": ".py",
   "mimetype": "text/x-python",
   "name": "python",
   "nbconvert_exporter": "python",
   "pygments_lexer": "ipython3",
   "version": "3.6.2"
  }
 },
 "nbformat": 4,
 "nbformat_minor": 1
}
