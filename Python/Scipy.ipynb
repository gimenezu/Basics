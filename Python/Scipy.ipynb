{
 "cells": [
  {
   "cell_type": "markdown",
   "metadata": {},
   "source": [
    "<font color='red'>  Check and organize next lines (get real name) </font>"
   ]
  },
  {
   "cell_type": "code",
   "execution_count": null,
   "metadata": {
    "collapsed": true
   },
   "outputs": [],
   "source": []
  },
  {
   "cell_type": "code",
   "execution_count": null,
   "metadata": {
    "collapsed": true
   },
   "outputs": [],
   "source": [
    "\n",
    "#a creuser\n",
    "f = interp1d(Rts[1:], 60.0 / np.diff(Rts), bounds_error=False)\n",
    "bpm = pd.DataFrame({'bpm': f(index)}, index=index).interpolate()\n",
    "\n",
    "f_ecg = interp1d(sig.index, s)\n",
    "\n",
    "\n"
   ]
  },
  {
   "cell_type": "code",
   "execution_count": null,
   "metadata": {
    "collapsed": true
   },
   "outputs": [],
   "source": []
  },
  {
   "cell_type": "code",
   "execution_count": null,
   "metadata": {
    "collapsed": true
   },
   "outputs": [],
   "source": [
    "#convolution ?\n",
    "MAqrs  = np.convolve(flt,np.ones([1,w1])[0,:]/w1,'valid')[offset-w1-h2+h1:n+offset-w1-h2+h1] # Moving Average sur w1"
   ]
  },
  {
   "cell_type": "code",
   "execution_count": null,
   "metadata": {
    "collapsed": true
   },
   "outputs": [],
   "source": []
  },
  {
   "cell_type": "code",
   "execution_count": null,
   "metadata": {
    "collapsed": true
   },
   "outputs": [],
   "source": [
    "#appliquer filtre\n",
    "b, a = ss.butter(BPorder, BPfreq / (0.5 * fs), 'band')  #get a and b polynomial values to apply later for the filter\n",
    "flt = ss.filtfilt(b, a, np.concatenate((buff, ecg)), 0) ** 2  # Dont forget to square...\n",
    "\n"
   ]
  }
 ],
 "metadata": {
  "anaconda-cloud": {}
 },
 "nbformat": 4,
 "nbformat_minor": 0
}
