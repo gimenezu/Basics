{
 "cells": [
  {
   "cell_type": "markdown",
   "metadata": {},
   "source": [
    "### Boucles for"
   ]
  },
  {
   "cell_type": "code",
   "execution_count": null,
   "metadata": {
    "collapsed": true
   },
   "outputs": [],
   "source": [
    "for i, j in zip(liste1,liste2):\n",
    "    print(i)  #elements de la liste1\n",
    "    print(j)  #elements de la liste2"
   ]
  },
  {
   "cell_type": "code",
   "execution_count": null,
   "metadata": {
    "collapsed": true
   },
   "outputs": [],
   "source": [
    "for i, j in enumerate(2*np.arange(5)):\n",
    "...     print(i)\n",
    "...     print(j)"
   ]
  },
  {
   "cell_type": "markdown",
   "metadata": {},
   "source": [
    "itertools.product évide pas mal de blocs.  <font color='red'> Plus rapide ? </font>"
   ]
  },
  {
   "cell_type": "code",
   "execution_count": 2,
   "metadata": {},
   "outputs": [
    {
     "name": "stdout",
     "output_type": "stream",
     "text": [
      "<itertools.product object at 0x0000028521E3DE58>\n",
      "[1, 11, 101, 3, 13, 103, 8, 18, 108]\n",
      "[1, 11, 101, 3, 13, 103, 8, 18, 108]\n"
     ]
    }
   ],
   "source": [
    "import itertools\n",
    "l1 = [1,3,8]\n",
    "l2 = [0,10,100]\n",
    "l3 = []\n",
    "l4 = []\n",
    "\n",
    "# Old code\n",
    "for x in l1:\n",
    "    for y in l2:\n",
    "        l3.append(x+y)\n",
    "print(l3)\n",
    "\n",
    "\n",
    "# better way\n",
    "for x, y in itertools.product(l1, l2):\n",
    "    l4.append(x+y)\n",
    "print(l4)"
   ]
  },
  {
   "cell_type": "markdown",
   "metadata": {},
   "source": [
    "### Comprehension list"
   ]
  },
  {
   "cell_type": "code",
   "execution_count": null,
   "metadata": {
    "collapsed": true
   },
   "outputs": [],
   "source": [
    "[x for x in Gts if x > timescale[0] and x < timescale[-1]]"
   ]
  },
  {
   "cell_type": "code",
   "execution_count": null,
   "metadata": {
    "collapsed": true
   },
   "outputs": [],
   "source": []
  },
  {
   "cell_type": "code",
   "execution_count": null,
   "metadata": {
    "collapsed": true
   },
   "outputs": [],
   "source": []
  },
  {
   "cell_type": "markdown",
   "metadata": {},
   "source": [
    "### While"
   ]
  },
  {
   "cell_type": "code",
   "execution_count": null,
   "metadata": {
    "collapsed": true
   },
   "outputs": [],
   "source": [
    "while argent >0:\n",
    "    if mise>argent: #Si la mise est supérieure à l'argent, on revient au début\n",
    "        print(\"Vous n'avez pas assez d'argent, recommencer svp \\n\")\n",
    "        continue\t#nous fait passer à l'étape suivante de la boucle sans appplquer la sui du code\n",
    "        break\t\t#nous fait quitter boucle\n",
    "        pass \t\t# ??? "
   ]
  }
 ],
 "metadata": {
  "anaconda-cloud": {},
  "kernelspec": {
   "display_name": "Python 3",
   "language": "python",
   "name": "python3"
  },
  "language_info": {
   "codemirror_mode": {
    "name": "ipython",
    "version": 3
   },
   "file_extension": ".py",
   "mimetype": "text/x-python",
   "name": "python",
   "nbconvert_exporter": "python",
   "pygments_lexer": "ipython3",
   "version": "3.6.2"
  }
 },
 "nbformat": 4,
 "nbformat_minor": 1
}
