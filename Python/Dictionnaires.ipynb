{
 "cells": [
  {
   "cell_type": "markdown",
   "metadata": {
    "collapsed": true
   },
   "source": [
    "Un dictionnaire est un ensemble de paires key/value. Une key n'aura qu'une value associée. Les values peuvent être de n'importe quel type : int, float, dict, function..."
   ]
  },
  {
   "cell_type": "code",
   "execution_count": null,
   "metadata": {
    "collapsed": true
   },
   "outputs": [],
   "source": []
  },
  {
   "cell_type": "code",
   "execution_count": 2,
   "metadata": {
    "collapsed": true
   },
   "outputs": [],
   "source": [
    "dict_vide = dict()\n",
    "dict_vide = {}"
   ]
  },
  {
   "cell_type": "code",
   "execution_count": 7,
   "metadata": {
    "collapsed": true
   },
   "outputs": [],
   "source": [
    "placard = {\"chemise\":3, \"pantalon\":6, \"tee-shirt\":7}"
   ]
  },
  {
   "cell_type": "code",
   "execution_count": null,
   "metadata": {
    "collapsed": true
   },
   "outputs": [],
   "source": []
  },
  {
   "cell_type": "code",
   "execution_count": null,
   "metadata": {
    "collapsed": true
   },
   "outputs": [],
   "source": [
    "\n"
   ]
  },
  {
   "cell_type": "markdown",
   "metadata": {},
   "source": [
    "#### Ajouter une clé, 2 manières"
   ]
  },
  {
   "cell_type": "code",
   "execution_count": 6,
   "metadata": {},
   "outputs": [
    {
     "name": "stdout",
     "output_type": "stream",
     "text": [
      "{'item3': 3}\n"
     ]
    }
   ],
   "source": [
    "data = {}\n",
    "data.update({'item3': 3})\n",
    "data['item3'] = 3  #Lorsqu'une valeur est déjà associée à cette clé, elle sera écrasée\n",
    "print(data)"
   ]
  },
  {
   "cell_type": "markdown",
   "metadata": {},
   "source": [
    "#### Supprimer une clé, 2 manières"
   ]
  },
  {
   "cell_type": "code",
   "execution_count": 8,
   "metadata": {},
   "outputs": [
    {
     "data": {
      "text/plain": [
       "3"
      ]
     },
     "execution_count": 8,
     "metadata": {},
     "output_type": "execute_result"
    }
   ],
   "source": [
    "placard = {\"chemise\":3, \"pantalon\":6, \"tee-shirt\":7}\n",
    "del placard[\"pantalon\"]\n",
    "placard.pop(\"chemise\")\t#la méthode pop supprimer la clé, mais elle renvoie l’élément supprimé"
   ]
  },
  {
   "cell_type": "markdown",
   "metadata": {},
   "source": [
    "#### Parcours d'un dictionnaire"
   ]
  },
  {
   "cell_type": "code",
   "execution_count": 12,
   "metadata": {},
   "outputs": [
    {
     "name": "stdout",
     "output_type": "stream",
     "text": [
      "1_  dict_keys(['tee-shirt', 'chemise', 'pantalon'])\n",
      "2_  dict_values([7, 3, 6])\n",
      "3_  dict_items([('tee-shirt', 7), ('chemise', 3), ('pantalon', 6)])\n"
     ]
    }
   ],
   "source": [
    "placard = {\"chemise\":3, \"pantalon\":6, \"tee-shirt\":7}\n",
    "print('1_ ',placard.keys())\n",
    "print('2_ ',placard.values())\n",
    "print('3_ ',placard.items())"
   ]
  },
  {
   "cell_type": "code",
   "execution_count": null,
   "metadata": {
    "collapsed": true
   },
   "outputs": [],
   "source": [
    "for values in fruits.keys():\n",
    "    print(values)\n",
    "\n",
    "for cle, valeur in fruits.items():\n",
    "    print(\"La clé {} contient la valeur {}.\".format(cle, valeur))"
   ]
  }
 ],
 "metadata": {
  "anaconda-cloud": {},
  "kernelspec": {
   "display_name": "Python 3",
   "language": "python",
   "name": "python3"
  },
  "language_info": {
   "codemirror_mode": {
    "name": "ipython",
    "version": 3
   },
   "file_extension": ".py",
   "mimetype": "text/x-python",
   "name": "python",
   "nbconvert_exporter": "python",
   "pygments_lexer": "ipython3",
   "version": "3.6.2"
  }
 },
 "nbformat": 4,
 "nbformat_minor": 1
}
