{
 "cells": [
  {
   "cell_type": "code",
   "execution_count": null,
   "metadata": {
    "collapsed": true
   },
   "outputs": [],
   "source": []
  },
  {
   "cell_type": "markdown",
   "metadata": {},
   "source": [
    "#### Loop on d.keys() which change keys names"
   ]
  },
  {
   "cell_type": "code",
   "execution_count": 6,
   "metadata": {
    "collapsed": false
   },
   "outputs": [
    {
     "name": "stdout",
     "output_type": "stream",
     "text": [
      "dict_keys(['signal3', 'signal1-b', 'signal2-b'])\n",
      "signal3-b\n",
      "dict_keys(['signal3', 'signal1', 'signal2-b'])\n",
      "signal1-b\n",
      "dict_keys(['signal3', 'signal1', 'signal2-b'])\n",
      "signal1\n",
      "dict_keys(['signal3', 'signal2', 'signal1'])\n",
      "signal2-b\n"
     ]
    }
   ],
   "source": [
    "d = {'signal1-b':12,'signal2-b':11,'signal3-b':2}\n",
    "sigList = ['signal1','signal2','signal3']\n",
    "\n",
    "for typ in d.keys():\n",
    "    if sigList.count(typ.split('-')[0])==1:\n",
    "            d[typ.split('-')[0]] = d.pop(typ)\n",
    "            print(d.keys())\n",
    "            print(typ)\n",
    "\n"
   ]
  },
  {
   "cell_type": "code",
   "execution_count": 4,
   "metadata": {
    "collapsed": false
   },
   "outputs": [
    {
     "name": "stdout",
     "output_type": "stream",
     "text": [
      "dict_keys(['signal3', 'signal1-b', 'signal2-b'])\n",
      "signal3-b\n",
      "dict_keys(['signal3', 'signal1', 'signal2-b'])\n",
      "signal1-b\n",
      "dict_keys(['signal3', 'signal2', 'signal1'])\n",
      "signal2-b\n"
     ]
    }
   ],
   "source": [
    "d = {'signal1-b':12,'signal2-b':11,'signal3-b':2}\n",
    "sigList = ['signal1','signal2','signal3']\n",
    "X = list(d.keys())\n",
    "\n",
    "\n",
    "for typ in X:\n",
    "    if sigList.count(typ.split('-')[0])==1:\n",
    "            d[typ.split('-')[0]] = d.pop(typ)\n",
    "            print(d.keys())\n",
    "            print(typ)"
   ]
  }
 ],
 "metadata": {
  "anaconda-cloud": {},
  "kernelspec": {
   "display_name": "Python [Root]",
   "language": "python",
   "name": "Python [Root]"
  },
  "language_info": {
   "codemirror_mode": {
    "name": "ipython",
    "version": 3
   },
   "file_extension": ".py",
   "mimetype": "text/x-python",
   "name": "python",
   "nbconvert_exporter": "python",
   "pygments_lexer": "ipython3",
   "version": "3.5.2"
  }
 },
 "nbformat": 4,
 "nbformat_minor": 0
}
