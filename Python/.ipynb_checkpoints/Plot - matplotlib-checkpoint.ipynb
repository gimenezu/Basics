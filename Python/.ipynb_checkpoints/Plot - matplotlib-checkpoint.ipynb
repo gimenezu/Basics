{
 "cells": [
  {
   "cell_type": "code",
   "execution_count": null,
   "metadata": {
    "collapsed": true
   },
   "outputs": [],
   "source": [
    "import matplotlib.pyplot as plt"
   ]
  },
  {
   "cell_type": "code",
   "execution_count": null,
   "metadata": {
    "collapsed": true
   },
   "outputs": [],
   "source": []
  },
  {
   "cell_type": "code",
   "execution_count": null,
   "metadata": {
    "collapsed": true
   },
   "outputs": [],
   "source": []
  },
  {
   "cell_type": "code",
   "execution_count": null,
   "metadata": {
    "collapsed": true
   },
   "outputs": [],
   "source": [
    "heure=np.arange(24)\n",
    "\n",
    "ax = fig.add_subplot(2,3,1)\n",
    "ax=df['weather'].hist(color='magenta')\n",
    "ax.set_ylabel('Nombre de locations',fontsize=14)\n",
    "ax.set_title('Meteo')\n",
    "ax.set_xlim(0,5)\n",
    "xTickMarks = [' ','beau','brouillard','pluie','neige']\n",
    "xtickNames = ax.set_xticklabels(xTickMarks)\n",
    "plt.setp(xtickNames, rotation=45, fontsize=12)\n",
    "\t#puis on recommence avec ax=...\n",
    "plt.axis('off')\n",
    "plt.title('Evolution des locations dans la journee',fontsize=18,y=1.04)\n",
    "ax.bar(vac+0.2,Z,w,color='brown',alpha=0.85)\n",
    "ax.set_xlim(0,24)\n",
    "\n",
    "\t#a la fin, on affiche\n",
    "plt.show(block=False)\n"
   ]
  },
  {
   "cell_type": "code",
   "execution_count": null,
   "metadata": {
    "collapsed": true
   },
   "outputs": [],
   "source": [
    "#keep caption in the figure\n",
    "plt.tight_layout()"
   ]
  },
  {
   "cell_type": "code",
   "execution_count": null,
   "metadata": {
    "collapsed": true
   },
   "outputs": [],
   "source": []
  },
  {
   "cell_type": "code",
   "execution_count": null,
   "metadata": {
    "collapsed": true
   },
   "outputs": [],
   "source": [
    "plt.plot(x, y * y, 'g') # je crée une courbe d'équation y=x*x\n",
    "\n",
    "plt.legend((\"y=x\", \"y=x**2\"), 'best')"
   ]
  },
  {
   "cell_type": "code",
   "execution_count": null,
   "metadata": {
    "collapsed": true
   },
   "outputs": [],
   "source": [
    "### camembert ###\n",
    "plt.pie"
   ]
  },
  {
   "cell_type": "code",
   "execution_count": null,
   "metadata": {
    "collapsed": true
   },
   "outputs": [],
   "source": [
    "plt.ion() #en mode interractif ??"
   ]
  }
 ],
 "metadata": {
  "kernelspec": {
   "display_name": "Python [Root]",
   "language": "python",
   "name": "Python [Root]"
  },
  "language_info": {
   "codemirror_mode": {
    "name": "ipython",
    "version": 3
   },
   "file_extension": ".py",
   "mimetype": "text/x-python",
   "name": "python",
   "nbconvert_exporter": "python",
   "pygments_lexer": "ipython3",
   "version": "3.5.2"
  }
 },
 "nbformat": 4,
 "nbformat_minor": 0
}
