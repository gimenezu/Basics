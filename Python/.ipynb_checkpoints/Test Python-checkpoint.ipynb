{
 "cells": [
  {
   "cell_type": "code",
   "execution_count": 15,
   "metadata": {},
   "outputs": [
    {
     "name": "stdout",
     "output_type": "stream",
     "text": [
      "Using matplotlib backend: Qt4Agg\n"
     ]
    }
   ],
   "source": [
    "import numpy as np\n",
    "import pandas as pd\n",
    "from matplotlib.pylab import *\n",
    "%matplotlib "
   ]
  },
  {
   "cell_type": "markdown",
   "metadata": {},
   "source": [
    "### 1. list & dictionaries manipulation "
   ]
  },
  {
   "cell_type": "code",
   "execution_count": 2,
   "metadata": {},
   "outputs": [],
   "source": [
    "d1 = {'a':1, 'b':2}\n",
    "d2 = {'c':3, 'd':4}"
   ]
  },
  {
   "cell_type": "markdown",
   "metadata": {},
   "source": [
    "#### Merge d1 and d2 into a new dict d"
   ]
  },
  {
   "cell_type": "code",
   "execution_count": 1,
   "metadata": {},
   "outputs": [],
   "source": [
    "#SOLUTION\n"
   ]
  },
  {
   "cell_type": "markdown",
   "metadata": {},
   "source": [
    "#### Return in a list the (key,values) pairs of d in the descending order of the values"
   ]
  },
  {
   "cell_type": "code",
   "execution_count": 2,
   "metadata": {},
   "outputs": [],
   "source": [
    "#SOLUTION\n",
    "\n"
   ]
  },
  {
   "cell_type": "markdown",
   "metadata": {},
   "source": [
    "#### Get the max and min values of a dict"
   ]
  },
  {
   "cell_type": "code",
   "execution_count": 5,
   "metadata": {
    "scrolled": true
   },
   "outputs": [
    {
     "name": "stdout",
     "output_type": "stream",
     "text": [
      "{'a': 14, 'c': 21, 'b': 2}\n"
     ]
    }
   ],
   "source": [
    "d = {'a':np.random.randint(0,100), 'b':np.random.randint(0,100), 'c':np.random.randint(0,100)}\n",
    "print(d)"
   ]
  },
  {
   "cell_type": "code",
   "execution_count": 3,
   "metadata": {},
   "outputs": [],
   "source": [
    "#SOLUTION \n"
   ]
  },
  {
   "cell_type": "markdown",
   "metadata": {},
   "source": [
    "#### Get the max and min values of a dict, with their corresponding keys"
   ]
  },
  {
   "cell_type": "code",
   "execution_count": 4,
   "metadata": {},
   "outputs": [],
   "source": [
    "# SOLUTION \n",
    "\n"
   ]
  },
  {
   "cell_type": "markdown",
   "metadata": {},
   "source": [
    "#### Write a function that takes 2 lists in arguments and returns their intersection. The result is a list containing the common values between the two input lists, with dupplicates removed."
   ]
  },
  {
   "cell_type": "code",
   "execution_count": 8,
   "metadata": {},
   "outputs": [],
   "source": [
    "a = [1, 1, 2, 3, 5, 8, 13, 21, 34, 55, 89]\n",
    "b = [1, 2, 3, 4, 5, 6, 7, 8, 9, 10, 11, 12, 13]\n"
   ]
  },
  {
   "cell_type": "code",
   "execution_count": 12,
   "metadata": {},
   "outputs": [
    {
     "name": "stdout",
     "output_type": "stream",
     "text": [
      "None\n"
     ]
    }
   ],
   "source": [
    "#SOLUTION 1\n",
    "def intersect(l1,l2):\n",
    "    return None\n",
    "\n",
    "c = intersect(a,b) \n",
    "print(c)"
   ]
  },
  {
   "cell_type": "markdown",
   "metadata": {},
   "source": [
    "Is there a way to optimize ?"
   ]
  },
  {
   "cell_type": "code",
   "execution_count": 17,
   "metadata": {},
   "outputs": [
    {
     "name": "stdout",
     "output_type": "stream",
     "text": [
      "Wall time: 507 µs\n"
     ]
    }
   ],
   "source": [
    "a2 = np.random.randint(0,10,1000000)\n",
    "b2 = np.random.randint(0,10,1000000)\n",
    "%time c2 = intersect(a2,b2)"
   ]
  },
  {
   "cell_type": "markdown",
   "metadata": {},
   "source": [
    "### 2. QRS complexes grouping"
   ]
  },
  {
   "cell_type": "markdown",
   "metadata": {},
   "source": [
    "The QRS complex corresponds to the depolarization of the right and left ventricles of the human heart and is the most visible part on a tracing. It is 80 to 180 ms in duration.\n",
    "\n",
    "<img src=\"http://www.newhealthadvisor.com/images/1HT00749/sinusrhythmlabels-svg.png\" width=\"200\" height=\"200\">\n",
    "\n",
    "The detection of R peaks indicates the heart beat and allows for different ECG feature measurements. \n",
    "One interesting feature is the homogenity of the QRS complexes in one patient's recording. \n",
    "To assess this homogeneity, we can try to create groups of similar QRS complexes (the grouping method is based on a measure you will have to propose). Then, the smaller the number of groups, the most homogeneous an ECG will be. \n",
    "\n",
    "Given an ECG signal and its corresponding R peaks locations, write a function that returns groups of QRS, plot all the QRS of each group together with their mean. The parameter defining the level of similiarity and thus the number of groups has to be an argument of your function.\n"
   ]
  },
  {
   "cell_type": "code",
   "execution_count": 18,
   "metadata": {},
   "outputs": [
    {
     "name": "stdout",
     "output_type": "stream",
     "text": [
      "<class 'pandas.core.series.Series'> <class 'numpy.ndarray'>\n",
      "Float64Index([        150.0,  150.00399361,  150.00798722, 150.011980831,\n",
      "              150.015974441, 150.019968051, 150.023961661, 150.027955272,\n",
      "              150.031948882, 150.035942492,\n",
      "              ...\n",
      "              269.964057508, 269.968051118, 269.972044728, 269.976038339,\n",
      "              269.980031949, 269.984025559, 269.988019169,  269.99201278,\n",
      "               269.99600639,         270.0],\n",
      "             dtype='float64', length=30049)\n"
     ]
    }
   ],
   "source": [
    "import pickle\n",
    "import os\n",
    "\n",
    "\n",
    "# load data\n",
    "d = pickle.load(open(os.path.join('./', 'regular_ecg.pickle'),\"rb\"))\n",
    "ecg = d['ecg']\n",
    "qrst = d['qrst']\n",
    "\n",
    "# plot ecg and R peaks \n",
    "plot(ecg)\n",
    "plot(ecg[qrst], 'og')\n",
    "# Data types : \n",
    "print(type(ecg),type(qrst))\n",
    "\n",
    "#index of ecg : \n",
    "print(ecg.index)"
   ]
  },
  {
   "cell_type": "code",
   "execution_count": 13,
   "metadata": {
    "collapsed": true
   },
   "outputs": [],
   "source": [
    "#SOLUTION \n",
    "def qrsTemplates(ecg,qrst,wnd=0.180,**kwargs):\n",
    "    return None"
   ]
  }
 ],
 "metadata": {
  "kernelspec": {
   "display_name": "Python 3",
   "language": "python",
   "name": "python3"
  },
  "language_info": {
   "codemirror_mode": {
    "name": "ipython",
    "version": 3
   },
   "file_extension": ".py",
   "mimetype": "text/x-python",
   "name": "python",
   "nbconvert_exporter": "python",
   "pygments_lexer": "ipython3",
   "version": "3.6.3"
  }
 },
 "nbformat": 4,
 "nbformat_minor": 1
}
