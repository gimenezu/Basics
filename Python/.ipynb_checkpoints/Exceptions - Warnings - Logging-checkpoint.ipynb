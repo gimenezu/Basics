{
 "cells": [
  {
   "cell_type": "markdown",
   "metadata": {},
   "source": [
    "## Exceptions"
   ]
  },
  {
   "cell_type": "markdown",
   "metadata": {},
   "source": [
    "Lorsqu'il y a une erreur dans le code, Python lève une exception, composée d'un type, et d'un message"
   ]
  },
  {
   "cell_type": "code",
   "execution_count": 15,
   "metadata": {},
   "outputs": [
    {
     "ename": "ZeroDivisionError",
     "evalue": "division by zero",
     "output_type": "error",
     "traceback": [
      "\u001b[1;31m---------------------------------------------------------------------------\u001b[0m",
      "\u001b[1;31mZeroDivisionError\u001b[0m                         Traceback (most recent call last)",
      "\u001b[1;32m<ipython-input-15-05c9758a9c21>\u001b[0m in \u001b[0;36m<module>\u001b[1;34m()\u001b[0m\n\u001b[1;32m----> 1\u001b[1;33m \u001b[1;36m1\u001b[0m\u001b[1;33m/\u001b[0m\u001b[1;36m0\u001b[0m\u001b[1;33m\u001b[0m\u001b[0m\n\u001b[0m",
      "\u001b[1;31mZeroDivisionError\u001b[0m: division by zero"
     ]
    }
   ],
   "source": [
    "1/0"
   ]
  },
  {
   "cell_type": "markdown",
   "metadata": {},
   "source": [
    "If the exception is left unhandled, the default behavior is for the interpreter to print a full <b>traceback</b> and the error message included in the exception."
   ]
  },
  {
   "cell_type": "markdown",
   "metadata": {
    "collapsed": true
   },
   "source": [
    "Exceptions are class, organized as follows:\n",
    "\n",
    "<img src=\"img/Exception.PNG\">"
   ]
  },
  {
   "cell_type": "code",
   "execution_count": null,
   "metadata": {
    "collapsed": true
   },
   "outputs": [],
   "source": []
  },
  {
   "cell_type": "markdown",
   "metadata": {},
   "source": [
    "#### Raise an exception"
   ]
  },
  {
   "cell_type": "code",
   "execution_count": 17,
   "metadata": {},
   "outputs": [
    {
     "ename": "NameError",
     "evalue": "",
     "output_type": "error",
     "traceback": [
      "\u001b[1;31m---------------------------------------------------------------------------\u001b[0m",
      "\u001b[1;31mNameError\u001b[0m                                 Traceback (most recent call last)",
      "\u001b[1;32m<ipython-input-17-96047be0652c>\u001b[0m in \u001b[0;36m<module>\u001b[1;34m()\u001b[0m\n\u001b[0;32m      1\u001b[0m \u001b[1;31m# Raise an exception with a name of exception class\u001b[0m\u001b[1;33m\u001b[0m\u001b[1;33m\u001b[0m\u001b[0m\n\u001b[1;32m----> 2\u001b[1;33m \u001b[1;32mraise\u001b[0m \u001b[0mNameError\u001b[0m\u001b[1;33m\u001b[0m\u001b[0m\n\u001b[0m",
      "\u001b[1;31mNameError\u001b[0m: "
     ]
    }
   ],
   "source": [
    "# Raise an exception with a name of exception class\n",
    "raise NameError"
   ]
  },
  {
   "cell_type": "code",
   "execution_count": 18,
   "metadata": {},
   "outputs": [
    {
     "ename": "NameError",
     "evalue": "There is an error",
     "output_type": "error",
     "traceback": [
      "\u001b[1;31m---------------------------------------------------------------------------\u001b[0m",
      "\u001b[1;31mNameError\u001b[0m                                 Traceback (most recent call last)",
      "\u001b[1;32m<ipython-input-18-b07f33bb8373>\u001b[0m in \u001b[0;36m<module>\u001b[1;34m()\u001b[0m\n\u001b[0;32m      1\u001b[0m \u001b[1;31m# Raise an exception with an instance from exception class\u001b[0m\u001b[1;33m\u001b[0m\u001b[1;33m\u001b[0m\u001b[0m\n\u001b[1;32m----> 2\u001b[1;33m \u001b[1;32mraise\u001b[0m \u001b[0mNameError\u001b[0m\u001b[1;33m(\u001b[0m\u001b[1;34m'There is an error'\u001b[0m\u001b[1;33m)\u001b[0m\u001b[1;33m\u001b[0m\u001b[0m\n\u001b[0m",
      "\u001b[1;31mNameError\u001b[0m: There is an error"
     ]
    }
   ],
   "source": [
    "# Raise an exception with an instance from exception class\n",
    "raise NameError('There is an error')"
   ]
  },
  {
   "cell_type": "code",
   "execution_count": null,
   "metadata": {
    "collapsed": true
   },
   "outputs": [],
   "source": []
  },
  {
   "cell_type": "markdown",
   "metadata": {},
   "source": [
    "#### User-defined exception"
   ]
  },
  {
   "cell_type": "code",
   "execution_count": 21,
   "metadata": {
    "collapsed": true
   },
   "outputs": [],
   "source": [
    " class MyError(Exception):\n",
    "     def __init__(self, value):\n",
    "         self.value = value\n",
    "     def __str__(self):\n",
    "         return repr(self.value)"
   ]
  },
  {
   "cell_type": "code",
   "execution_count": null,
   "metadata": {
    "collapsed": true
   },
   "outputs": [],
   "source": []
  },
  {
   "cell_type": "markdown",
   "metadata": {},
   "source": [
    "## Block try"
   ]
  },
  {
   "cell_type": "code",
   "execution_count": 27,
   "metadata": {},
   "outputs": [
    {
     "ename": "IndentationError",
     "evalue": "expected an indented block (<ipython-input-27-cb9b073e02a1>, line 3)",
     "output_type": "error",
     "traceback": [
      "\u001b[1;36m  File \u001b[1;32m\"<ipython-input-27-cb9b073e02a1>\"\u001b[1;36m, line \u001b[1;32m3\u001b[0m\n\u001b[1;33m    except:\u001b[0m\n\u001b[1;37m         ^\u001b[0m\n\u001b[1;31mIndentationError\u001b[0m\u001b[1;31m:\u001b[0m expected an indented block\n"
     ]
    }
   ],
   "source": [
    "try:\n",
    "    # Block to try\n",
    "except:\n",
    "    # Block to execute in case of error in try block"
   ]
  },
  {
   "cell_type": "markdown",
   "metadata": {},
   "source": [
    "In fact, <b> we must not raise an exception automatically </b>. Otherwise, code is hard to debug, and  there are exceptions that we want to keep (ex: Ctrl + C). At least <i> except Exception </i> must be specified to throw all exceptions and their derivatives"
   ]
  },
  {
   "cell_type": "code",
   "execution_count": 9,
   "metadata": {},
   "outputs": [
    {
     "name": "stdout",
     "output_type": "stream",
     "text": [
      "2nd\n"
     ]
    }
   ],
   "source": [
    "x = 0\n",
    "try:\n",
    "    y=1/x\n",
    "    print('1st')\n",
    "except ZeroDivisionError:\n",
    "    y=1/(x+1)\n",
    "    print('2nd')"
   ]
  },
  {
   "cell_type": "code",
   "execution_count": 4,
   "metadata": {
    "scrolled": true
   },
   "outputs": [
    {
     "name": "stdout",
     "output_type": "stream",
     "text": [
      "Le résultat obtenu est\n",
      "1\n"
     ]
    }
   ],
   "source": [
    "src = 'recordKey'\n",
    "\n",
    "try : # case src is a repository path\n",
    "    listRec = os.listdir(src)\n",
    "except NotADirectoryError: # case src is a file path\n",
    "    listRec = [src.split(os.sep)[-1]]\n",
    "except FileNotFoundError:# case src is a record key\n",
    "    listRec = [src]\n",
    "except TypeError:\n",
    "    if isinstance(src, list) and all(np.array([isinstance(sub, str) for sub in src])):  # case src is a list of record keys\n",
    "        listRec = src\n",
    "    else:\n",
    "        raise TypeError('src is not a valid path')"
   ]
  },
  {
   "cell_type": "markdown",
   "metadata": {
    "collapsed": true
   },
   "source": [
    "Le mot-clé <b>else</b> : en pratique peu utilisé, mais plus 'propre' de ne mettre qu'une ligne dans try, et le reste après else."
   ]
  },
  {
   "cell_type": "code",
   "execution_count": null,
   "metadata": {
    "collapsed": true
   },
   "outputs": [],
   "source": [
    "try:\n",
    "    # Bloc à essayer\n",
    "except:\n",
    "    # Bloc qui sera exécuté en cas d'erreur\n",
    "else:\n",
    "    #Bloc exécuté si pas d'erreur soulevé"
   ]
  },
  {
   "cell_type": "markdown",
   "metadata": {},
   "source": [
    "Le mot-clé <b>finnaly</b> permet d'exécuter du code après le try, quel que soit le résultat, même s'il y a un return dans un des cas "
   ]
  },
  {
   "cell_type": "code",
   "execution_count": 7,
   "metadata": {},
   "outputs": [
    {
     "name": "stdout",
     "output_type": "stream",
     "text": [
      "Le calcul a été processé\n",
      "10.0\n"
     ]
    }
   ],
   "source": [
    "def test(denominateur):\n",
    "    try:\n",
    "        resultat = 10 / denominateur\n",
    "    except ZeroDivisionError:\n",
    "        return 0\n",
    "    finally:\n",
    "        print(\"Le calcul a été processé\")\n",
    "    return resultat\n",
    "\n",
    "print(test(1))"
   ]
  },
  {
   "cell_type": "code",
   "execution_count": 8,
   "metadata": {},
   "outputs": [
    {
     "name": "stdout",
     "output_type": "stream",
     "text": [
      "Le calcul a été processé\n",
      "0\n"
     ]
    }
   ],
   "source": [
    "print(test(0))"
   ]
  },
  {
   "cell_type": "markdown",
   "metadata": {
    "collapsed": true
   },
   "source": [
    "Use assert to test a condition before following code"
   ]
  },
  {
   "cell_type": "code",
   "execution_count": 14,
   "metadata": {},
   "outputs": [
    {
     "name": "stdout",
     "output_type": "stream",
     "text": [
      "Saisissez une année supérieure à 0 :2,3\n",
      "Vous n'avez pas saisi un nombre.\n"
     ]
    }
   ],
   "source": [
    "annee = input(\"Saisissez une année supérieure à 0 :\")\n",
    "try:\n",
    "    annee = int(annee) # Conversion de l'année\n",
    "    assert annee > 0\n",
    "except ValueError:\n",
    "    print(\"Vous n'avez pas saisi un nombre.\")\n",
    "except AssertionError:\n",
    "    print(\"L'année saisie est inférieure ou égale à 0.\")"
   ]
  },
  {
   "cell_type": "markdown",
   "metadata": {
    "collapsed": true
   },
   "source": [
    "Use except <b>Exception</b>: to get all errors, instead of except:"
   ]
  },
  {
   "cell_type": "code",
   "execution_count": 28,
   "metadata": {},
   "outputs": [
    {
     "name": "stdout",
     "output_type": "stream",
     "text": [
      "<class 'ZeroDivisionError'> was raised : Second argument to a division or modulo operation was zero..\n",
      " Calculation was done with another process\n"
     ]
    }
   ],
   "source": [
    "x = 0\n",
    "try:\n",
    "    y=1/x\n",
    "except Exception as e:\n",
    "    y=1/(x+1)\n",
    "    print('{} was raised : {}.\\n Calculation was done with another process'.format(e.__class__,e.__doc__))\n",
    "    "
   ]
  },
  {
   "cell_type": "code",
   "execution_count": null,
   "metadata": {
    "collapsed": true
   },
   "outputs": [],
   "source": []
  },
  {
   "cell_type": "markdown",
   "metadata": {
    "collapsed": true
   },
   "source": [
    "## Warnings"
   ]
  },
  {
   "cell_type": "code",
   "execution_count": 6,
   "metadata": {},
   "outputs": [
    {
     "data": {
      "text/plain": [
       "'Warning: test\\n'"
      ]
     },
     "execution_count": 6,
     "metadata": {},
     "output_type": "execute_result"
    }
   ],
   "source": [
    "import warnings\n",
    "def custom_warning(msg, *_):\n",
    "    return 'Warning: ' + str(msg) + '\\n'\n",
    "warnings.formatwarning = custom_warning\n",
    "\n",
    "custom_warning('test')"
   ]
  },
  {
   "cell_type": "markdown",
   "metadata": {
    "collapsed": true
   },
   "source": [
    "<font color='red'> warnings is supplented by logging</font>"
   ]
  },
  {
   "cell_type": "code",
   "execution_count": null,
   "metadata": {
    "collapsed": true
   },
   "outputs": [],
   "source": []
  },
  {
   "cell_type": "markdown",
   "metadata": {
    "collapsed": true
   },
   "source": [
    "## Logging"
   ]
  },
  {
   "cell_type": "markdown",
   "metadata": {
    "collapsed": true
   },
   "source": [
    "Logger system allows to log all events occuring during processing of a program. logging allow to choose outputs for logs (console, file...) and to filter it depending on action. In logs, there are 5 levels of messages."
   ]
  },
  {
   "cell_type": "code",
   "execution_count": 12,
   "metadata": {
    "collapsed": true
   },
   "outputs": [],
   "source": [
    "# CRITICAL \t50\n",
    "# ERROR \t40\n",
    "# WARNING \t30\n",
    "# INFO \t\t20\n",
    "# DEBUG \t10\n",
    "# NOTSET \t0 # take the one of ancestor, or from root logger if no ancestor."
   ]
  },
  {
   "cell_type": "markdown",
   "metadata": {},
   "source": [
    "#### Compoisition of logs"
   ]
  },
  {
   "cell_type": "markdown",
   "metadata": {
    "collapsed": true
   },
   "source": [
    "A log contains one or several <b>handlers</b> which define the destination where log records are sent (console, file...). Format of log records can be defined in a <b>formatter</b> contains in handler. Each handler has a <b>level</b> defined under which log records are not broadcasted. One log can contain several handlers with different levels. <br>Then, <b>filters</b> can be set in a handler to better sort output log records."
   ]
  },
  {
   "cell_type": "markdown",
   "metadata": {},
   "source": [
    "Several handlers exists, which output log records in different destinations:<br>\n",
    "- console (StreamHandler)<br>\n",
    "- files (FileHandler, WatchedFileHandler, RotatingFileHandler..)<br>\n",
    "- socket (SocketHandler) <br>\n",
    "- SMTP (SMTPHandler) <br>\n",
    "- ..."
   ]
  },
  {
   "cell_type": "markdown",
   "metadata": {},
   "source": [
    "### Basic config"
   ]
  },
  {
   "cell_type": "markdown",
   "metadata": {},
   "source": [
    "If a basic config is set, all logs creates without dedicated handler will use this configuration, even those definded in imported modules"
   ]
  },
  {
   "cell_type": "code",
   "execution_count": 17,
   "metadata": {},
   "outputs": [
    {
     "name": "stdout",
     "output_type": "stream",
     "text": [
      "WARNING:__main__:This appears\n"
     ]
    }
   ],
   "source": [
    "import logging\n",
    "import sys\n",
    "\n",
    "logging.basicConfig(level = logging.WARNING, handlers=[logging.StreamHandler(stream=sys.stdout)])\n",
    "log = logging.getLogger(__name__) #this definition will use bas configuration\n",
    "\n",
    "log.info('NOT PRINTED')\n",
    "log.warning('This appears')"
   ]
  },
  {
   "cell_type": "markdown",
   "metadata": {
    "collapsed": true
   },
   "source": [
    "<b>basicConfig can be called only once</b></b>, after it does not have any effect. Then if it is used in imported module, if won't have any impact in main module. If we want to force replacement of basic config,<b> we have to delete existing configuration.</b> (<b>or directly replace it with</b> <i>logging.root.handlers[0] = fileHandler</i>)"
   ]
  },
  {
   "cell_type": "code",
   "execution_count": 18,
   "metadata": {},
   "outputs": [
    {
     "name": "stdout",
     "output_type": "stream",
     "text": [
      "WARNING:__main__:This appears\n",
      "\n",
      "WARNING:__main__:This appears\n",
      "\n",
      "INFO:__main__:WE WANT TO PRINT IT\n",
      "WARNING:__main__:This appears\n",
      "\n"
     ]
    }
   ],
   "source": [
    "import logging\n",
    "import sys\n",
    "\n",
    "#First definition\n",
    "logging.basicConfig(level = logging.WARNING, handlers=[logging.StreamHandler(stream=sys.stdout)])\n",
    "log = logging.getLogger(__name__)\n",
    "\n",
    "log.info('NOT PRINTED')\n",
    "log.warning('This appears\\n')\n",
    "\n",
    "#Redefine basicConfig has not effect\n",
    "logging.basicConfig(level = logging.INFO, handlers=[logging.StreamHandler(stream=sys.stdout)])\n",
    "log = logging.getLogger(__name__)\n",
    "\n",
    "log.info('WE WANT TO PRINT IT')\n",
    "log.warning('Info has not been printed. Warning message appears\\n')\n",
    "\n",
    "#Delete existing configuration\n",
    "for handler in logging.root.handlers:\n",
    "    logging.root.removeHandler(handler)\n",
    "logging.basicConfig(level = logging.INFO, handlers=[logging.StreamHandler(stream=sys.stdout)])\n",
    "log.info('WE WANT TO PRINT IT')\n",
    "log.warning('This appears\\n')\n",
    "\n",
    "for handler in logging.root.handlers:\n",
    "    logging.root.removeHandler(handler)"
   ]
  },
  {
   "cell_type": "markdown",
   "metadata": {},
   "source": [
    "### Multiple handlers"
   ]
  },
  {
   "cell_type": "code",
   "execution_count": null,
   "metadata": {
    "collapsed": true
   },
   "outputs": [],
   "source": [
    "import logging\n",
    "import sys\n",
    "from logging.handlers import RotatingFileHandler\n",
    "\n",
    "logging.basicConfig(level = logging.WARNING, handlers=[logging.StreamHandler(stream=sys.stdout)])\n",
    "log = logging.getLogger(__name__)\n",
    "\n",
    "formatter = logging.Formatter('%(asctime)s :: %(levelname)s :: %(message)s')\n",
    "fileHandler = RotatingFileHandler('D:\\\\example1.log', maxBytes= 1000000)\n",
    "fileHandler.setLevel(logging.INFO)\n",
    "fileHandler.setFormatter(formatter)\n",
    "log.addHandler(fileHandler)\n",
    "\n",
    "\n",
    "log.debug('This message should go to the log file and to the console')\n",
    "log.info('So should this')\n",
    "log.warning('And this, too')\n"
   ]
  },
  {
   "cell_type": "markdown",
   "metadata": {},
   "source": [
    "#### Import configuration from a file"
   ]
  },
  {
   "cell_type": "code",
   "execution_count": 29,
   "metadata": {
    "collapsed": true
   },
   "outputs": [],
   "source": [
    "import json\n",
    "import logging\n",
    "import logging.config\n",
    "\n",
    "with open(\"D:\\\\loggerConfig.json\", \"r\", encoding=\"utf-8\") as fd:\n",
    "    logging.config.dictConfig(json.load(fd))"
   ]
  },
  {
   "cell_type": "markdown",
   "metadata": {},
   "source": [
    "#### Other settings"
   ]
  },
  {
   "cell_type": "code",
   "execution_count": 26,
   "metadata": {
    "collapsed": true
   },
   "outputs": [],
   "source": [
    "log.propagate = True # True is default configuration, propagate logs to ancestors loggers (and their handlers) of actual logger.\n",
    "log.getChild() #useful to get a child of logging.get\n"
   ]
  },
  {
   "cell_type": "markdown",
   "metadata": {
    "collapsed": true
   },
   "source": [
    "### Guidelines for code"
   ]
  },
  {
   "cell_type": "markdown",
   "metadata": {},
   "source": [
    "#### try/Except blocks"
   ]
  },
  {
   "cell_type": "markdown",
   "metadata": {},
   "source": [
    "<b>Do not raise an exception automatically </b>. Otherwise, code is hard to debug, and  there are exceptions that we want to keep (ex: Ctrl + C). At least <i> except Exception </i> must be specified to throw all exceptions and their derivatives"
   ]
  },
  {
   "cell_type": "markdown",
   "metadata": {},
   "source": [
    "#### Log definition"
   ]
  },
  {
   "cell_type": "code",
   "execution_count": 1,
   "metadata": {
    "collapsed": true
   },
   "outputs": [],
   "source": [
    "import logging\n",
    "import sys\n",
    "\n",
    "#_1 Initialize logging.basicConfig configuration with logInit function, (logs of all modules will be impacted)\n",
    "logInit(cfg = 'console+file', filePath = 'D:\\\\logs.log')\n",
    "\n",
    "#_2 Define log with __name__, good practise for better readability of logs\n",
    "log = logging.getLogger(__name__)\n",
    "\n",
    "\n",
    "\n",
    "#_4 Set manually a different level for a given module (not in basicConfig):\n",
    "if __name__ == '__main__':\n",
    "    log.setLevel(logging.INFO)\n",
    "    "
   ]
  },
  {
   "cell_type": "markdown",
   "metadata": {},
   "source": [
    "#### Use of logs in the code"
   ]
  },
  {
   "cell_type": "markdown",
   "metadata": {},
   "source": [
    "=> Do not use print for debug/information, or warnings in the code. Logs do the same, but it is very modular and can be tuned easily.<br>\n",
    "=> Exceptions should be captured with try/except blocks. Log exception should be prefered to log.error (same behavior, but more detailed). In case of critical error only, a python exception should be raised."
   ]
  },
  {
   "cell_type": "markdown",
   "metadata": {},
   "source": [
    "=> We should preferably not raise an error when occurs, but log the error and run the rest of the code. If it is necessary to raise error, use a try/excep bloc, log it and then raise it <br>"
   ]
  },
  {
   "cell_type": "code",
   "execution_count": null,
   "metadata": {
    "collapsed": true
   },
   "outputs": [],
   "source": [
    "#error level, log it and continue\n",
    "try:\n",
    "    1/0\n",
    "except ZeroDivisionError as e:\n",
    "    #log.error('{} occured : {}\\n'.format(e.__class__.__name__, e.__doc__))\n",
    "    log.exception('{} occured : {}\\n'.format(e.__class__.__name__, e.__doc__))\n",
    "    return\n",
    "    \n",
    "#critical level, log critical error and interrupt code\n",
    "except ZeroDivisionError as e:\n",
    "    log.critical('{} occured : {}\\n'.format(e.__class__.__name__, e.__doc__))\n",
    "    return"
   ]
  },
  {
   "cell_type": "markdown",
   "metadata": {},
   "source": [
    "=> if a given process needs to save all its logs in a file, just add an handler to the log.<br>\n",
    "=> if a given process needs to save all its logs and logs of chils module to a given module (ex: flow), basicConfig has to be erased and recreated in the init of the process"
   ]
  }
 ],
 "metadata": {
  "anaconda-cloud": {},
  "kernelspec": {
   "display_name": "Python 3",
   "language": "python",
   "name": "python3"
  },
  "language_info": {
   "codemirror_mode": {
    "name": "ipython",
    "version": 3
   },
   "file_extension": ".py",
   "mimetype": "text/x-python",
   "name": "python",
   "nbconvert_exporter": "python",
   "pygments_lexer": "ipython3",
   "version": "3.6.2"
  }
 },
 "nbformat": 4,
 "nbformat_minor": 1
}
