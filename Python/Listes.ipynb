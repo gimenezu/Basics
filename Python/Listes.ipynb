{
 "cells": [
  {
   "cell_type": "markdown",
   "metadata": {
    "collapsed": true
   },
   "source": [
    "### Compréhension de liste"
   ]
  },
  {
   "cell_type": "code",
   "execution_count": 3,
   "metadata": {
    "collapsed": false
   },
   "outputs": [
    {
     "name": "stdout",
     "output_type": "stream",
     "text": [
      "[3, 4, 10, 2, 4, 4, 2, 4, 8, 1]\n"
     ]
    }
   ],
   "source": [
    "nbCharacter = [len(x) for x in 'How many characters in each word of this sentence ?'.split(' ')]\n",
    "print(nbCharacter)"
   ]
  },
  {
   "cell_type": "markdown",
   "metadata": {},
   "source": [
    "## Operations"
   ]
  },
  {
   "cell_type": "markdown",
   "metadata": {},
   "source": [
    "<font color='red'> check if methods apply on the list or return another lists (and get right terms) </font>"
   ]
  },
  {
   "cell_type": "code",
   "execution_count": 10,
   "metadata": {
    "collapsed": false
   },
   "outputs": [
    {
     "name": "stdout",
     "output_type": "stream",
     "text": [
      "1_  [1, 'jife', 3, 'abc']\n",
      "2_  [1, 'jife', 'c', 3, 'abc', 23]\n",
      "3_  [1, 'jife', 'c', 3, 'abc', 23, 'test2']\n",
      "4_  [1, 'jife', 'c', 3, 'abc', 23, 'test2', 'test2']\n",
      "5_  ['jife', 'c', 3, 'abc', 'test2', 'test2']\n"
     ]
    }
   ],
   "source": [
    "ma_liste = [1,3,3,'abc']\n",
    "ma_liste2 = ['test2']\n",
    "ma_liste[1]='jife'\n",
    "print('1_ ', ma_liste)\n",
    "\n",
    "#Ici, les méthodes modifient directement la liste donnée\n",
    "ma_liste.append(23) \n",
    "ma_liste.insert(2,'c')\n",
    "print('2_ ',ma_liste)\n",
    "\n",
    "print('3_ ',ma_liste + ma_liste2) #renvoie une liste des deux liste concaténées\n",
    "ma_liste += ma_liste2  \n",
    "ma_liste.extend(ma_liste2) #Ici, liste 1 est directement modifiée\n",
    "print('4_ ',ma_liste) #renvoie une liste des deux liste concaténées\n",
    "\n",
    "ma_liste.remove(1) #supprimer le premier 2 trouvé dans la liste\n",
    "del ma_liste[4]\n",
    "print('5_ ',ma_liste) #renvoie une liste des deux liste concaténées"
   ]
  },
  {
   "cell_type": "code",
   "execution_count": null,
   "metadata": {
    "collapsed": true
   },
   "outputs": [],
   "source": [
    ""
   ]
  },
  {
   "cell_type": "code",
   "execution_count": null,
   "metadata": {
    "collapsed": true
   },
   "outputs": [],
   "source": [
    ""
   ]
  }
 ],
 "metadata": {
  "anaconda-cloud": {},
  "kernelspec": {
   "display_name": "Python [conda root]",
   "language": "python",
   "name": "conda-root-py"
  },
  "language_info": {
   "codemirror_mode": {
    "name": "ipython",
    "version": 3.0
   },
   "file_extension": ".py",
   "mimetype": "text/x-python",
   "name": "python",
   "nbconvert_exporter": "python",
   "pygments_lexer": "ipython3",
   "version": "3.5.2"
  }
 },
 "nbformat": 4,
 "nbformat_minor": 0
}