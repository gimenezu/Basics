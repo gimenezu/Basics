{
 "cells": [
  {
   "cell_type": "markdown",
   "metadata": {
    "collapsed": true
   },
   "source": [
    "#### Différentes fonctions sont regroupées dans des modules. Les modules peuvent être regroupés en package (folder)."
   ]
  },
  {
   "cell_type": "code",
   "execution_count": null,
   "metadata": {
    "collapsed": true
   },
   "outputs": [],
   "source": [
    "#définition de la fonction\n",
    "def squarre(x):\n",
    "    y = x*x\n",
    "    return y\n",
    "\n",
    "#test de la fonction\n",
    "a = 9\n",
    "b = squarre(a)\n",
    "print('b = ',b)"
   ]
  },
  {
   "cell_type": "markdown",
   "metadata": {
    "collapsed": true
   },
   "source": [
    "A l'inverse de C++, une fonction a comme signature uniquement son nom (car pas de type prédéfini pour les variables)."
   ]
  },
  {
   "cell_type": "code",
   "execution_count": null,
   "metadata": {
    "collapsed": true
   },
   "outputs": [],
   "source": []
  },
  {
   "cell_type": "code",
   "execution_count": null,
   "metadata": {
    "collapsed": true
   },
   "outputs": [],
   "source": []
  },
  {
   "cell_type": "code",
   "execution_count": null,
   "metadata": {
    "collapsed": true
   },
   "outputs": [],
   "source": [
    "#ne prendre que le deuxieme parametre de la fonction :\n",
    "_, qrs = QrsDetect(ecg['0'], show=None)"
   ]
  },
  {
   "cell_type": "markdown",
   "metadata": {
    "collapsed": true
   },
   "source": [
    "Fonction lambda"
   ]
  },
  {
   "cell_type": "code",
   "execution_count": 2,
   "metadata": {},
   "outputs": [
    {
     "data": {
      "text/plain": [
       "16"
      ]
     },
     "execution_count": 2,
     "metadata": {},
     "output_type": "execute_result"
    }
   ],
   "source": [
    "f=lambda x,y : x*y\n",
    "f(2,8)"
   ]
  },
  {
   "cell_type": "code",
   "execution_count": null,
   "metadata": {
    "collapsed": true
   },
   "outputs": [],
   "source": []
  },
  {
   "cell_type": "markdown",
   "metadata": {},
   "source": [
    "<font color='red'> **args, ***kargs:</font>"
   ]
  },
  {
   "cell_type": "code",
   "execution_count": null,
   "metadata": {
    "collapsed": true
   },
   "outputs": [],
   "source": [
    "def fonction_inconnue(*en_liste, **en_dictionnaire):\n",
    "    XX"
   ]
  },
  {
   "cell_type": "code",
   "execution_count": null,
   "metadata": {
    "collapsed": true
   },
   "outputs": [],
   "source": []
  },
  {
   "cell_type": "markdown",
   "metadata": {},
   "source": [
    "Partial function: from a given function, can derive a function with a given parameter set."
   ]
  },
  {
   "cell_type": "code",
   "execution_count": null,
   "metadata": {
    "collapsed": true
   },
   "outputs": [],
   "source": [
    "from functools import partial \n",
    "\n",
    "def power(base, exponent): \n",
    "    return base ** exponent \n",
    "\n",
    " \n",
    "square = partial(power, exponent=2)"
   ]
  },
  {
   "cell_type": "code",
   "execution_count": null,
   "metadata": {
    "collapsed": true
   },
   "outputs": [],
   "source": []
  },
  {
   "cell_type": "markdown",
   "metadata": {},
   "source": [
    "## Functions & variables"
   ]
  },
  {
   "cell_type": "markdown",
   "metadata": {},
   "source": [
    "### Variables"
   ]
  },
  {
   "cell_type": "markdown",
   "metadata": {},
   "source": [
    "Asides strings/numbers, a variable point toward a reference of an object. Then 2 variables can point on the same object."
   ]
  },
  {
   "cell_type": "code",
   "execution_count": 3,
   "metadata": {},
   "outputs": [
    {
     "name": "stdout",
     "output_type": "stream",
     "text": [
      "139875947288008\n",
      "139875947288008\n",
      "139875946882120\n"
     ]
    }
   ],
   "source": [
    "X = [1,3, 7]\n",
    "Y = X\n",
    "Z= list(X) #creaton of a new variable\n",
    "print(id(X))\n",
    "print(id(Y))\n",
    "print(id(Z))"
   ]
  },
  {
   "cell_type": "code",
   "execution_count": null,
   "metadata": {
    "collapsed": true
   },
   "outputs": [],
   "source": []
  },
  {
   "cell_type": "markdown",
   "metadata": {},
   "source": [
    "Portee des variables: "
   ]
  },
  {
   "cell_type": "markdown",
   "metadata": {},
   "source": [
    "when a variable x is called:\n",
    "<br> Firstly, local space is considered. Then, exterior space is considered for \"read only\": we can not modify the value (x=y), but if we call a method of x, it will modify it (or change in a dict modification). If we want to modify a variable, use 'global variable' in the function.\n",
    "<br><br> At the end of a function, its local space is suppressed\n",
    "<font color='red'> Do examples of this ? List of spaces considered </font>"
   ]
  },
  {
   "cell_type": "code",
   "execution_count": null,
   "metadata": {
    "collapsed": true
   },
   "outputs": [],
   "source": []
  },
  {
   "cell_type": "markdown",
   "metadata": {},
   "source": [
    "### Imports"
   ]
  },
  {
   "cell_type": "markdown",
   "metadata": {},
   "source": [
    "regular import: as for function, execute all imports, variables out of functions, and then <font color='red'> \"delete it\" </font>. But, if a method is applied on an existing variable, it modify it. \n",
    "import *: get all inputs in <font color='red'> local space (dir() ?)</font>, and all variables declared outside of the local space <font color='red'> ? </font>"
   ]
  },
  {
   "cell_type": "markdown",
   "metadata": {},
   "source": [
    " <font color='red'> name os space of execution ? </font>"
   ]
  },
  {
   "cell_type": "code",
   "execution_count": null,
   "metadata": {
    "collapsed": true
   },
   "outputs": [],
   "source": []
  },
  {
   "cell_type": "code",
   "execution_count": null,
   "metadata": {
    "collapsed": true
   },
   "outputs": [],
   "source": []
  },
  {
   "cell_type": "markdown",
   "metadata": {},
   "source": [
    "## Décorateurs"
   ]
  },
  {
   "cell_type": "markdown",
   "metadata": {},
   "source": [
    "Fonction qui va prendre en argument une autre fonction et changer son comportement. Plus clair que de tout coder dans une fonction. C'est au décorateur de décider s'il veut exécuter la fonction et dans quelles conditions. On retourne la fonction qui va être exécuté qui peut être modifiée ou non)\n",
    "<br> Perfect example is the measure of duration"
   ]
  },
  {
   "cell_type": "markdown",
   "metadata": {
    "collapsed": true
   },
   "source": [
    "1_Decorateur is called during the initialization of function.  <font color='red'>  why ? </font>"
   ]
  },
  {
   "cell_type": "code",
   "execution_count": 2,
   "metadata": {},
   "outputs": [
    {
     "name": "stdout",
     "output_type": "stream",
     "text": [
      "Notre décorateur est appelé avec en paramètre la fonction <function salut at 0x0000028704D9CD08>\n"
     ]
    }
   ],
   "source": [
    "def mon_decorateur(fonction):\n",
    "    \"\"\"Premier exemple de décorateur\"\"\"\n",
    "    print(\"Notre décorateur est appelé avec en paramètre la fonction {0}\".format(fonction))\n",
    "    return fonction\n",
    "\n",
    "@mon_decorateur\n",
    "def salut():\n",
    "    \"\"\"Fonction modifiée par notre décorateur\"\"\"\n",
    "    print(\"Salut !\")"
   ]
  },
  {
   "cell_type": "raw",
   "metadata": {},
   "source": [
    "Car dans le décorateur, on va refédinir une autre nouvelle fonction, pour renvoyer celle-ci, et ce dès l'initialisation. "
   ]
  },
  {
   "cell_type": "code",
   "execution_count": 3,
   "metadata": {
    "collapsed": true
   },
   "outputs": [],
   "source": [
    "def mon_decorateur(fonction):\n",
    "    \"\"\"Notre décorateur : il va afficher un message avant l'appel de la\n",
    "    fonction définie\"\"\"\n",
    "    \n",
    "    def fonction_modifiee():\n",
    "        \"\"\"Fonction que l'on va renvoyer. Il s'agit en fait d'une version\n",
    "        un peu modifiée de notre fonction originellement définie. On se\n",
    "        contente d'afficher un avertissement avant d'exécuter notre fonction\n",
    "        originellement définie\"\"\"\n",
    "        \n",
    "        print(\"Attention ! On appelle {0}\".format(fonction))\n",
    "        return fonction()\n",
    "    return fonction_modifiee\n",
    "\n",
    "@mon_decorateur\n",
    "def salut():\n",
    "    print(\"Salut !\")"
   ]
  },
  {
   "cell_type": "code",
   "execution_count": 4,
   "metadata": {},
   "outputs": [
    {
     "name": "stdout",
     "output_type": "stream",
     "text": [
      "Attention ! On appelle <function salut at 0x000002870227D2F0>\n",
      "Salut !\n"
     ]
    }
   ],
   "source": [
    "salut()"
   ]
  },
  {
   "cell_type": "markdown",
   "metadata": {},
   "source": [
    "#### Un décorateur avec des paramètres"
   ]
  },
  {
   "cell_type": "markdown",
   "metadata": {},
   "source": [
    "Le décorateur s'éxecute d'abord lui même avec les paramêtres, renvoie un décorateur sans paramètre qui lui s'exécutera sur la fonction."
   ]
  },
  {
   "cell_type": "code",
   "execution_count": 6,
   "metadata": {},
   "outputs": [
    {
     "ename": "SyntaxError",
     "evalue": "invalid syntax (<ipython-input-6-9cc5862ff5e8>, line 2)",
     "output_type": "error",
     "traceback": [
      "\u001b[1;36m  File \u001b[1;32m\"<ipython-input-6-9cc5862ff5e8>\"\u001b[1;36m, line \u001b[1;32m2\u001b[0m\n\u001b[1;33m    def fonction(...):\u001b[0m\n\u001b[1;37m                   ^\u001b[0m\n\u001b[1;31mSyntaxError\u001b[0m\u001b[1;31m:\u001b[0m invalid syntax\n"
     ]
    }
   ],
   "source": [
    "@decorateur(parametre)\n",
    "def fonction(...):\n",
    "    ..."
   ]
  },
  {
   "cell_type": "code",
   "execution_count": 5,
   "metadata": {},
   "outputs": [
    {
     "ename": "SyntaxError",
     "evalue": "invalid syntax (<ipython-input-5-91277f835d01>, line 1)",
     "output_type": "error",
     "traceback": [
      "\u001b[1;36m  File \u001b[1;32m\"<ipython-input-5-91277f835d01>\"\u001b[1;36m, line \u001b[1;32m1\u001b[0m\n\u001b[1;33m    def fonction(...):\u001b[0m\n\u001b[1;37m                   ^\u001b[0m\n\u001b[1;31mSyntaxError\u001b[0m\u001b[1;31m:\u001b[0m invalid syntax\n"
     ]
    }
   ],
   "source": [
    "def fonction(...):\n",
    "    ...\n",
    "\n",
    "fonction = decorateur(parametre)(fonction)"
   ]
  },
  {
   "cell_type": "markdown",
   "metadata": {},
   "source": [
    "Exemple,   <font color='red'> à regarder </font>"
   ]
  },
  {
   "cell_type": "code",
   "execution_count": null,
   "metadata": {
    "collapsed": true
   },
   "outputs": [],
   "source": [
    "\"\"\"Pour gérer le temps, on importe le module time\n",
    "On va utiliser surtout la fonction time() de ce module qui renvoie le nombre\n",
    "de secondes écoulées depuis le premier janvier 1970 (habituellement).\n",
    "On va s'en servir pour calculer le temps mis par notre fonction pour\n",
    "s'exécuter\"\"\"\n",
    "\n",
    "import time\n",
    "\n",
    "def controler_temps(nb_secs):\n",
    "    \"\"\"Contrôle le temps mis par une fonction pour s'exécuter.\n",
    "    Si le temps d'exécution est supérieur à nb_secs, on affiche une alerte\"\"\"\n",
    "    \n",
    "    def decorateur(fonction_a_executer):\n",
    "        \"\"\"Notre décorateur. C'est lui qui est appelé directement LORS\n",
    "        DE LA DEFINITION de notre fonction (fonction_a_executer)\"\"\"\n",
    "        \n",
    "        def fonction_modifiee():\n",
    "            \"\"\"Fonction renvoyée par notre décorateur. Elle se charge\n",
    "            de calculer le temps mis par la fonction à s'exécuter\"\"\"\n",
    "            \n",
    "            tps_avant = time.time() # Avant d'exécuter la fonction\n",
    "            valeur_renvoyee = fonction_a_executer() # On exécute la fonction\n",
    "            tps_apres = time.time()\n",
    "            tps_execution = tps_apres - tps_avant\n",
    "            if tps_execution >= nb_secs:\n",
    "                print(\"La fonction {0} a mis {1} pour s'exécuter\".format( \\\n",
    "                        fonction_a_executer, tps_execution))\n",
    "            return valeur_renvoyee\n",
    "        return fonction_modifiee\n",
    "    return decorateur"
   ]
  },
  {
   "cell_type": "code",
   "execution_count": null,
   "metadata": {
    "collapsed": true
   },
   "outputs": [],
   "source": []
  },
  {
   "cell_type": "markdown",
   "metadata": {},
   "source": [
    "#### Tenir compte des paramètres de notre fonction"
   ]
  },
  {
   "cell_type": "code",
   "execution_count": 2,
   "metadata": {},
   "outputs": [],
   "source": [
    "def mon_decorateur(fonction):\n",
    "    \"\"\"Notre décorateur : il va afficher un message avant l'appel de la\n",
    "    fonction définie\"\"\"\n",
    "\n",
    "    def fonction_modifiee(*rec, **rec2):\n",
    "        \"\"\"Fonction que l'on va renvoyer. Il s'agit en fait d'une version\n",
    "        un peu modifiée de notre fonction originellement définie. On se\n",
    "        contente d'afficher un avertissement avant d'exécuter notre fonction\n",
    "        originellement définie\"\"\"\n",
    "\n",
    "        print(\"TEST\")\n",
    "        return fonction(*rec)\n",
    "\n",
    "    return fonction_modifiee\n",
    "\n",
    "@mon_decorateur\n",
    "def loadRecord(rec, rec2 = 'test' ):\n",
    "    print(rec)\n",
    "    print(rec2)"
   ]
  },
  {
   "cell_type": "code",
   "execution_count": 3,
   "metadata": {},
   "outputs": [
    {
     "name": "stdout",
     "output_type": "stream",
     "text": [
      "TEST\n",
      "1\n",
      "test\n"
     ]
    }
   ],
   "source": [
    "loadRecord('1')"
   ]
  },
  {
   "cell_type": "markdown",
   "metadata": {
    "collapsed": true
   },
   "source": [
    "#### Prendre en compte paramêtre pour décorateur"
   ]
  },
  {
   "cell_type": "code",
   "execution_count": 12,
   "metadata": {},
   "outputs": [],
   "source": [
    "applyDec = True\n",
    "def mon_decorateur(applyDec=True):\n",
    "    \"\"\"Notre décorateur : il va afficher un message avant l'appel de la\n",
    "    fonction définie\"\"\"\n",
    "    def decorateur(fonction):\n",
    "        def fonction_modifiee(*rec, **rec2):\n",
    "            \"\"\"Fonction que l'on va renvoyer. Il s'agit en fait d'une version\n",
    "            un peu modifiée de notre fonction originellement définie. On se\n",
    "            contente d'afficher un avertissement avant d'exécuter notre fonction\n",
    "            originellement définie\"\"\"\n",
    "            if applyDec is True:\n",
    "                print(\"TEST\")\n",
    "            else:\n",
    "                print('apply is not True')\n",
    "            return fonction(*rec)\n",
    "        return fonction_modifiee\n",
    "    return decorateur\n",
    "    \n",
    "@mon_decorateur(applyDec=applyDec)\n",
    "def loadRecord(rec, rec2 = 'test' ):\n",
    "    print(rec)\n",
    "    print(rec2)"
   ]
  },
  {
   "cell_type": "code",
   "execution_count": 13,
   "metadata": {},
   "outputs": [
    {
     "name": "stdout",
     "output_type": "stream",
     "text": [
      "TEST\n",
      "1\n",
      "test\n"
     ]
    }
   ],
   "source": [
    "loadRecord('1')"
   ]
  },
  {
   "cell_type": "code",
   "execution_count": null,
   "metadata": {
    "collapsed": true
   },
   "outputs": [],
   "source": []
  },
  {
   "cell_type": "code",
   "execution_count": null,
   "metadata": {
    "collapsed": true
   },
   "outputs": [],
   "source": []
  }
 ],
 "metadata": {
  "kernelspec": {
   "display_name": "Python 3",
   "language": "python",
   "name": "python3"
  },
  "language_info": {
   "codemirror_mode": {
    "name": "ipython",
    "version": 3
   },
   "file_extension": ".py",
   "mimetype": "text/x-python",
   "name": "python",
   "nbconvert_exporter": "python",
   "pygments_lexer": "ipython3",
   "version": "3.6.2"
  }
 },
 "nbformat": 4,
 "nbformat_minor": 1
}
